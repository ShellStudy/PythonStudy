{
 "cells": [
  {
   "cell_type": "markdown",
   "id": "ddd3c405",
   "metadata": {},
   "source": [
    "제어문\n",
    "1. 조건문 : if\n",
    "2. 반복문 : for, while"
   ]
  },
  {
   "cell_type": "code",
   "execution_count": 2,
   "id": "a624ca80",
   "metadata": {},
   "outputs": [
    {
     "name": "stdout",
     "output_type": "stream",
     "text": [
      "False\n"
     ]
    }
   ],
   "source": [
    "a = 5\n",
    "print(a == 3)"
   ]
  },
  {
   "cell_type": "code",
   "execution_count": 5,
   "id": "28b89762",
   "metadata": {},
   "outputs": [
    {
     "name": "stdout",
     "output_type": "stream",
     "text": [
      "다르다\n"
     ]
    }
   ],
   "source": [
    "a = 10 == 3\n",
    "if a:\n",
    "    print('맞다')\n",
    "else:\n",
    "    print('다르다')"
   ]
  }
 ],
 "metadata": {
  "kernelspec": {
   "display_name": "Python 3",
   "language": "python",
   "name": "python3"
  },
  "language_info": {
   "codemirror_mode": {
    "name": "ipython",
    "version": 3
   },
   "file_extension": ".py",
   "mimetype": "text/x-python",
   "name": "python",
   "nbconvert_exporter": "python",
   "pygments_lexer": "ipython3",
   "version": "3.13.5"
  }
 },
 "nbformat": 4,
 "nbformat_minor": 5
}
