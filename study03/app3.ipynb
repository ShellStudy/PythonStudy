{
 "cells": [
  {
   "cell_type": "markdown",
   "id": "1410ea80",
   "metadata": {},
   "source": [
    "음료수를 구매 할 수 있는 자판기 입니다.\n",
    "음료수 종류 및 개당 금액\n",
    "- 콜라 : 500\n",
    "- 사이다 : 450\n",
    "- 맥콜 : 300"
   ]
  },
  {
   "cell_type": "markdown",
   "id": "a1687d00",
   "metadata": {},
   "source": [
    "문제1) 아래의 조건문에서 해당 음료수를 선택 했을 경우 금액을 알려주고 수량을 받는 입력창을 띄우세요."
   ]
  },
  {
   "cell_type": "code",
   "execution_count": 8,
   "id": "40f4ae81",
   "metadata": {},
   "outputs": [],
   "source": [
    "선택한음료 = input(\"콜라, 사이다, 맥콜 중 하나를 주문하세요.\")\n",
    "금액 = 0"
   ]
  },
  {
   "cell_type": "code",
   "execution_count": 9,
   "id": "b001dec8",
   "metadata": {},
   "outputs": [
    {
     "name": "stdout",
     "output_type": "stream",
     "text": [
      "선택하신 음료는 콜라 입니다. 500원\n"
     ]
    }
   ],
   "source": [
    "if 선택한음료 == '콜라':\n",
    "    print('선택하신 음료는 콜라 입니다. 500원')\n",
    "    금액 = 500\n",
    "elif 선택한음료 == '사이다':\n",
    "    print('선택하신 음료는 사이다 입니다. 450원')\n",
    "    금액 = 450\n",
    "elif 선택한음료 == '맥콜':\n",
    "    print('선택하신 음료는 맥콜 입니다. 300원')\n",
    "    금액 = 300"
   ]
  },
  {
   "cell_type": "code",
   "execution_count": 10,
   "id": "925b023c",
   "metadata": {},
   "outputs": [],
   "source": [
    "수량 = int(input('수량을 입력하세요.'))"
   ]
  },
  {
   "cell_type": "markdown",
   "id": "5b8a0d90",
   "metadata": {},
   "source": [
    "문제2) 선택한 음료와 수량의 총 합을 출력해 주세요. 예) 콜라 3개 금액은 1500원 입니다."
   ]
  },
  {
   "cell_type": "code",
   "execution_count": 11,
   "id": "76b7d57d",
   "metadata": {},
   "outputs": [
    {
     "name": "stdout",
     "output_type": "stream",
     "text": [
      "콜라 2개 금액은 1000원 입니다.\n"
     ]
    }
   ],
   "source": [
    "print(f'{선택한음료} {수량}개 금액은 {금액 * 수량}원 입니다.')"
   ]
  },
  {
   "cell_type": "markdown",
   "id": "7df11c07",
   "metadata": {},
   "source": [
    "문제3) 사용자에서 금액을 받고 알맞은 결과를 출력해 주세요. 예) 2000원를 받고 500원 거스름돈를 받으세요."
   ]
  },
  {
   "cell_type": "code",
   "execution_count": 12,
   "id": "38252848",
   "metadata": {},
   "outputs": [
    {
     "name": "stdout",
     "output_type": "stream",
     "text": [
      "1000원를 받고 0원 거스름돈를 받으세요.\n"
     ]
    }
   ],
   "source": [
    "지불금액 = int(input('지불 하실 금액을 입력하세요.'))\n",
    "거스름돈 = 지불금액 - (금액 * 수량)\n",
    "print(f'{지불금액}원를 받고 {거스름돈}원 거스름돈를 받으세요.')"
   ]
  }
 ],
 "metadata": {
  "kernelspec": {
   "display_name": "Python 3",
   "language": "python",
   "name": "python3"
  },
  "language_info": {
   "codemirror_mode": {
    "name": "ipython",
    "version": 3
   },
   "file_extension": ".py",
   "mimetype": "text/x-python",
   "name": "python",
   "nbconvert_exporter": "python",
   "pygments_lexer": "ipython3",
   "version": "3.13.5"
  }
 },
 "nbformat": 4,
 "nbformat_minor": 5
}
