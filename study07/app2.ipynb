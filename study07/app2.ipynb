{
 "cells": [
  {
   "cell_type": "markdown",
   "id": "eaf49ea5",
   "metadata": {},
   "source": [
    "문1) 다음 데이터에서 각각 두번째 자리의 값만 출력 할 수 있도록 코드를 작성하세요.\n",
    "데이터    > [(1,'대'),(2,'한'),(3,'민'),(4,'국')]\n",
    "출력 예시 > 대 한 민 국 "
   ]
  },
  {
   "cell_type": "code",
   "execution_count": null,
   "id": "93c08108",
   "metadata": {},
   "outputs": [],
   "source": []
  },
  {
   "cell_type": "markdown",
   "id": "e76b9bda",
   "metadata": {},
   "source": [
    "문2) 다음 데이터에서 3번째 자리의 값을 리스트 자료형으로 '1 ~ 9' 까지 나열되도록 출력하세요.\n",
    "데이터          > [1,2,3,4,5]\n",
    "출력 예시       > [1,2,[1,2,3,4,5,6,7,8,9],4,5]"
   ]
  },
  {
   "cell_type": "code",
   "execution_count": null,
   "id": "a786b2bc",
   "metadata": {},
   "outputs": [],
   "source": []
  }
 ],
 "metadata": {
  "language_info": {
   "name": "python"
  }
 },
 "nbformat": 4,
 "nbformat_minor": 5
}
