{
 "cells": [
  {
   "cell_type": "markdown",
   "id": "eaf49ea5",
   "metadata": {},
   "source": [
    "문1) 다음 데이터에서 각각 두번째 자리의 값만 출력 할 수 있도록 코드를 작성하세요.\n",
    "데이터    > [(1,'대'),(2,'한'),(3,'민'),(4,'국')]\n",
    "출력 예시 > 대 한 민 국 "
   ]
  },
  {
   "cell_type": "code",
   "execution_count": 5,
   "id": "93c08108",
   "metadata": {},
   "outputs": [
    {
     "name": "stdout",
     "output_type": "stream",
     "text": [
      "대 한 민 국 \n"
     ]
    }
   ],
   "source": [
    "문자열 = ''\n",
    "for d1 in [(1,'대'),(2,'한'),(3,'민'),(4,'국')]:\n",
    "    문자열 += d1[1] + ' '\n",
    "print(문자열)"
   ]
  },
  {
   "cell_type": "markdown",
   "id": "e76b9bda",
   "metadata": {},
   "source": [
    "문2) 다음 데이터에서 3번째 자리의 값을 리스트 자료형으로 '1 ~ 9' 까지 나열되도록 출력하세요.\n",
    "데이터          > [1,2,3,4,5]\n",
    "출력 예시       > [1,2,[1,2,3,4,5,6,7,8,9],4,5]"
   ]
  },
  {
   "cell_type": "code",
   "execution_count": 8,
   "id": "a786b2bc",
   "metadata": {},
   "outputs": [
    {
     "name": "stdout",
     "output_type": "stream",
     "text": [
      "[1, 2, [1, 2, 3, 4, 5, 6, 7, 8, 9], 4, 5]\n"
     ]
    }
   ],
   "source": [
    "데이터 = [1,2,3,4,5]\n",
    "배열 = []\n",
    "\n",
    "for 값 in range(1,10):\n",
    "    배열.append(값)\n",
    "\n",
    "데이터[2] = 배열\n",
    "print(데이터)"
   ]
  }
 ],
 "metadata": {
  "kernelspec": {
   "display_name": "Python 3",
   "language": "python",
   "name": "python3"
  },
  "language_info": {
   "codemirror_mode": {
    "name": "ipython",
    "version": 3
   },
   "file_extension": ".py",
   "mimetype": "text/x-python",
   "name": "python",
   "nbconvert_exporter": "python",
   "pygments_lexer": "ipython3",
   "version": "3.13.5"
  }
 },
 "nbformat": 4,
 "nbformat_minor": 5
}
