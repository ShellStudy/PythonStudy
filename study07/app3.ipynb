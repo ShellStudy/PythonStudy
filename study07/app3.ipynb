{
 "cells": [
  {
   "cell_type": "markdown",
   "id": "f61a8945",
   "metadata": {},
   "source": [
    "파이썬 문제 \n",
    "- 위치 : 공유 폴더 > 파이썬 문제 > 빈칸 채우기  "
   ]
  },
  {
   "cell_type": "code",
   "execution_count": 1,
   "id": "5c4e4c35",
   "metadata": {},
   "outputs": [
    {
     "name": "stdout",
     "output_type": "stream",
     "text": [
      "OXXXX\n",
      "OOXXX\n",
      "OOOXX\n",
      "OOOOX\n",
      "OOOOO\n"
     ]
    }
   ],
   "source": [
    "for y in range(5):\n",
    "    행 = ''\n",
    "    for x in range(5):\n",
    "        행 += 'O' if x < (y + 1) else 'X'\n",
    "    print(행)"
   ]
  },
  {
   "cell_type": "code",
   "execution_count": 2,
   "id": "3fd5dd0c",
   "metadata": {},
   "outputs": [
    {
     "name": "stdout",
     "output_type": "stream",
     "text": [
      "OOOOO\n",
      "OOOOX\n",
      "OOOXX\n",
      "OOXXX\n",
      "OXXXX\n"
     ]
    }
   ],
   "source": [
    "for y in range(5):\n",
    "    행 = ''\n",
    "    for x in range(5):\n",
    "        행 += 'O' if x <= (4 - y) else 'X'\n",
    "    print(행)"
   ]
  },
  {
   "cell_type": "code",
   "execution_count": 3,
   "id": "0b504c17",
   "metadata": {},
   "outputs": [
    {
     "name": "stdout",
     "output_type": "stream",
     "text": [
      "XXXXO\n",
      "XXXOO\n",
      "XXOOO\n",
      "XOOOO\n",
      "OOOOO\n"
     ]
    }
   ],
   "source": [
    "for y in range(5):\n",
    "    행 = ''\n",
    "    for x in range(5):\n",
    "        행 += 'O' if x >= (4 - y) else 'X'\n",
    "    print(행)"
   ]
  },
  {
   "cell_type": "code",
   "execution_count": 4,
   "id": "4bfa3b02",
   "metadata": {},
   "outputs": [
    {
     "name": "stdout",
     "output_type": "stream",
     "text": [
      "OOOOO\n",
      "XOOOO\n",
      "XXOOO\n",
      "XXXOO\n",
      "XXXXO\n"
     ]
    }
   ],
   "source": [
    "for y in range(5):\n",
    "    행 = ''\n",
    "    for x in range(5):\n",
    "        행 += 'O' if x > (y - 1) else 'X'\n",
    "    print(행)"
   ]
  },
  {
   "cell_type": "code",
   "execution_count": 13,
   "id": "f4fbcc99",
   "metadata": {},
   "outputs": [
    {
     "name": "stdout",
     "output_type": "stream",
     "text": [
      "XXXXOXXXX\n",
      "XXXOOOXXX\n",
      "XXOOOOOXX\n",
      "XOOOOOOOX\n",
      "OOOOOOOOO\n",
      "XOOOOOOOX\n",
      "XXOOOOOXX\n",
      "XXXOOOXXX\n",
      "XXXXOXXXX\n"
     ]
    }
   ],
   "source": [
    "for y in range(9):\n",
    "    행 = ''\n",
    "    for x in range(9):\n",
    "        if y == 4:\n",
    "            행 += 'O'\n",
    "        elif (y == 0 or y == 8) and x == 4:\n",
    "            행 += 'O'\n",
    "        elif (y == 1 or y == 7) and (3 <= x <= 5):\n",
    "            행 += 'O'\n",
    "        elif (y == 2 or y == 6) and (2 <= x <= 6):\n",
    "            행 += 'O'\n",
    "        elif (y == 3 or y == 5) and (1 <= x <= 7):\n",
    "            행 += 'O'\n",
    "        else:\n",
    "            행 += 'X'\n",
    "    print(행)"
   ]
  },
  {
   "cell_type": "code",
   "execution_count": 14,
   "id": "109b253e",
   "metadata": {},
   "outputs": [],
   "source": [
    "문1 = [\n",
    "    [True,  False,  False,  False,  False],\n",
    "    [True,  True,   False,  False,  False],\n",
    "    [True,  True,   True,   False,  False],\n",
    "    [True,  True,   True,   True,   False],\n",
    "    [True,  True,   True,   True,   True]\n",
    "    ]\n",
    "문2 = [\n",
    "    [True,  True,   True,   True,   True],\n",
    "    [True,  True,   True,   True,   False],\n",
    "    [True,  True,   True,   False,  False],\n",
    "    [True,  True,   False,  False,  False],\n",
    "    [True,  False,  False,  False,  False]\n",
    "    ]\n",
    "문3 = [\n",
    "    [False, False,  False,  False,  True],\n",
    "    [False, False,  False,  True,   True],\n",
    "    [False, False,  True,   True,   True],\n",
    "    [False, True,   True,   True,   True],\n",
    "    [True,  True,   True,   True,   True]\n",
    "    ]\n",
    "문4 = [\n",
    "    [True,  True,   True,   True,   True],\n",
    "    [False, True,   True,   True,   True],\n",
    "    [False, False,  True,   True,   True],\n",
    "    [False, False,  False,  True,   True],\n",
    "    [False, False,  False,  False,  True]\n",
    "    ]"
   ]
  },
  {
   "cell_type": "code",
   "execution_count": 16,
   "id": "9fc8262e",
   "metadata": {},
   "outputs": [],
   "source": [
    "def 실행기(리스트):\n",
    "    for y in 리스트:\n",
    "        행 = ''\n",
    "        for x in y:\n",
    "            행 += 'O' if x else 'X'\n",
    "        print(행)"
   ]
  },
  {
   "cell_type": "code",
   "execution_count": 17,
   "id": "e8edcc95",
   "metadata": {},
   "outputs": [
    {
     "name": "stdout",
     "output_type": "stream",
     "text": [
      "OXXXX\n",
      "OOXXX\n",
      "OOOXX\n",
      "OOOOX\n",
      "OOOOO\n"
     ]
    }
   ],
   "source": [
    "실행기(문1)"
   ]
  },
  {
   "cell_type": "code",
   "execution_count": 18,
   "id": "5da85394",
   "metadata": {},
   "outputs": [
    {
     "name": "stdout",
     "output_type": "stream",
     "text": [
      "OOOOO\n",
      "OOOOX\n",
      "OOOXX\n",
      "OOXXX\n",
      "OXXXX\n"
     ]
    }
   ],
   "source": [
    "실행기(문2)"
   ]
  },
  {
   "cell_type": "code",
   "execution_count": 19,
   "id": "cd774ce8",
   "metadata": {},
   "outputs": [
    {
     "name": "stdout",
     "output_type": "stream",
     "text": [
      "XXXXO\n",
      "XXXOO\n",
      "XXOOO\n",
      "XOOOO\n",
      "OOOOO\n"
     ]
    }
   ],
   "source": [
    "실행기(문3)"
   ]
  },
  {
   "cell_type": "code",
   "execution_count": 20,
   "id": "25737ee6",
   "metadata": {},
   "outputs": [
    {
     "name": "stdout",
     "output_type": "stream",
     "text": [
      "OOOOO\n",
      "XOOOO\n",
      "XXOOO\n",
      "XXXOO\n",
      "XXXXO\n"
     ]
    }
   ],
   "source": [
    "실행기(문4)"
   ]
  },
  {
   "cell_type": "code",
   "execution_count": 22,
   "id": "40655cd8",
   "metadata": {},
   "outputs": [],
   "source": [
    "문5 = [\n",
    "    [False, False,  False,  False,  True,   False,  False,  False,  False],\n",
    "    [False, False,  False,  True,   True,   True,   False,  False,  False],\n",
    "    [False, False,  True,   True,   True,   True,   True,   False,  False],\n",
    "    [False, True,   True,   True,   True,   True,   True,   True,   False],\n",
    "    [True,  True,   True,   True,   True,   True,   True,   True,   True],\n",
    "    [False, True,   True,   True,   True,   True,   True,   True,   False],\n",
    "    [False, False,  True,   True,   True,   True,   True,   False,  False],\n",
    "    [False, False,  False,  True,   True,   True,   False,  False,  False],\n",
    "    [False, False,  False,  False,  True,   False,  False,  False,  False]\n",
    "    ]"
   ]
  },
  {
   "cell_type": "code",
   "execution_count": 23,
   "id": "80d33a31",
   "metadata": {},
   "outputs": [
    {
     "name": "stdout",
     "output_type": "stream",
     "text": [
      "XXXXOXXXX\n",
      "XXXOOOXXX\n",
      "XXOOOOOXX\n",
      "XOOOOOOOX\n",
      "OOOOOOOOO\n",
      "XOOOOOOOX\n",
      "XXOOOOOXX\n",
      "XXXOOOXXX\n",
      "XXXXOXXXX\n"
     ]
    }
   ],
   "source": [
    "실행기(문5)"
   ]
  }
 ],
 "metadata": {
  "kernelspec": {
   "display_name": "Python 3",
   "language": "python",
   "name": "python3"
  },
  "language_info": {
   "codemirror_mode": {
    "name": "ipython",
    "version": 3
   },
   "file_extension": ".py",
   "mimetype": "text/x-python",
   "name": "python",
   "nbconvert_exporter": "python",
   "pygments_lexer": "ipython3",
   "version": "3.13.5"
  }
 },
 "nbformat": 4,
 "nbformat_minor": 5
}
