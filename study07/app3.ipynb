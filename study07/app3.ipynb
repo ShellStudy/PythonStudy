{
 "cells": [
  {
   "cell_type": "markdown",
   "id": "f61a8945",
   "metadata": {},
   "source": [
    "파이썬 문제 \n",
    "- 위치 : 공유 폴더 > 파이썬 문제 > 빈칸 채우기  "
   ]
  },
  {
   "cell_type": "code",
   "execution_count": null,
   "id": "5c4e4c35",
   "metadata": {},
   "outputs": [],
   "source": []
  },
  {
   "cell_type": "code",
   "execution_count": null,
   "id": "3fd5dd0c",
   "metadata": {},
   "outputs": [],
   "source": []
  },
  {
   "cell_type": "code",
   "execution_count": null,
   "id": "0b504c17",
   "metadata": {},
   "outputs": [],
   "source": []
  },
  {
   "cell_type": "code",
   "execution_count": null,
   "id": "4bfa3b02",
   "metadata": {},
   "outputs": [],
   "source": []
  },
  {
   "cell_type": "code",
   "execution_count": null,
   "id": "f4fbcc99",
   "metadata": {},
   "outputs": [],
   "source": []
  }
 ],
 "metadata": {
  "language_info": {
   "name": "python"
  }
 },
 "nbformat": 4,
 "nbformat_minor": 5
}
