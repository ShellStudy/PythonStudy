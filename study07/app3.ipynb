{
 "cells": [
  {
   "cell_type": "markdown",
   "id": "f61a8945",
   "metadata": {},
   "source": [
    "파이썬 문제 \n",
    "- 위치 : 공유 폴더 > 파이썬 문제 > 빈칸 채우기  "
   ]
  },
  {
   "cell_type": "code",
   "execution_count": 1,
   "id": "5c4e4c35",
   "metadata": {},
   "outputs": [
    {
     "name": "stdout",
     "output_type": "stream",
     "text": [
      "OXXXX\n",
      "OOXXX\n",
      "OOOXX\n",
      "OOOOX\n",
      "OOOOO\n"
     ]
    }
   ],
   "source": [
    "for y in range(5):\n",
    "    행 = ''\n",
    "    for x in range(5):\n",
    "        행 += 'O' if x < (y + 1) else 'X'\n",
    "    print(행)"
   ]
  },
  {
   "cell_type": "code",
   "execution_count": 2,
   "id": "3fd5dd0c",
   "metadata": {},
   "outputs": [
    {
     "name": "stdout",
     "output_type": "stream",
     "text": [
      "OOOOO\n",
      "OOOOX\n",
      "OOOXX\n",
      "OOXXX\n",
      "OXXXX\n"
     ]
    }
   ],
   "source": [
    "for y in range(5):\n",
    "    행 = ''\n",
    "    for x in range(5):\n",
    "        행 += 'O' if x <= (4 - y) else 'X'\n",
    "    print(행)"
   ]
  },
  {
   "cell_type": "code",
   "execution_count": 3,
   "id": "0b504c17",
   "metadata": {},
   "outputs": [
    {
     "name": "stdout",
     "output_type": "stream",
     "text": [
      "XXXXO\n",
      "XXXOO\n",
      "XXOOO\n",
      "XOOOO\n",
      "OOOOO\n"
     ]
    }
   ],
   "source": [
    "for y in range(5):\n",
    "    행 = ''\n",
    "    for x in range(5):\n",
    "        행 += 'O' if x >= (4 - y) else 'X'\n",
    "    print(행)"
   ]
  },
  {
   "cell_type": "code",
   "execution_count": 4,
   "id": "4bfa3b02",
   "metadata": {},
   "outputs": [
    {
     "name": "stdout",
     "output_type": "stream",
     "text": [
      "OOOOO\n",
      "XOOOO\n",
      "XXOOO\n",
      "XXXOO\n",
      "XXXXO\n"
     ]
    }
   ],
   "source": [
    "for y in range(5):\n",
    "    행 = ''\n",
    "    for x in range(5):\n",
    "        행 += 'O' if x > (y - 1) else 'X'\n",
    "    print(행)"
   ]
  },
  {
   "cell_type": "code",
   "execution_count": 13,
   "id": "f4fbcc99",
   "metadata": {},
   "outputs": [
    {
     "name": "stdout",
     "output_type": "stream",
     "text": [
      "XXXXOXXXX\n",
      "XXXOOOXXX\n",
      "XXOOOOOXX\n",
      "XOOOOOOOX\n",
      "OOOOOOOOO\n",
      "XOOOOOOOX\n",
      "XXOOOOOXX\n",
      "XXXOOOXXX\n",
      "XXXXOXXXX\n"
     ]
    }
   ],
   "source": [
    "for y in range(9):\n",
    "    행 = ''\n",
    "    for x in range(9):\n",
    "        if y == 4:\n",
    "            행 += 'O'\n",
    "        elif (y == 0 or y == 8) and x == 4:\n",
    "            행 += 'O'\n",
    "        elif (y == 1 or y == 7) and (3 <= x <= 5):\n",
    "            행 += 'O'\n",
    "        elif (y == 2 or y == 6) and (2 <= x <= 6):\n",
    "            행 += 'O'\n",
    "        elif (y == 3 or y == 5) and (1 <= x <= 7):\n",
    "            행 += 'O'\n",
    "        else:\n",
    "            행 += 'X'\n",
    "    print(행)"
   ]
  }
 ],
 "metadata": {
  "kernelspec": {
   "display_name": "Python 3",
   "language": "python",
   "name": "python3"
  },
  "language_info": {
   "codemirror_mode": {
    "name": "ipython",
    "version": 3
   },
   "file_extension": ".py",
   "mimetype": "text/x-python",
   "name": "python",
   "nbconvert_exporter": "python",
   "pygments_lexer": "ipython3",
   "version": "3.13.5"
  }
 },
 "nbformat": 4,
 "nbformat_minor": 5
}
