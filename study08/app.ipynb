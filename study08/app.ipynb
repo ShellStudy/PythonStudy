{
 "cells": [
  {
   "cell_type": "markdown",
   "id": "bd96ec81",
   "metadata": {},
   "source": [
    "문1)"
   ]
  },
  {
   "cell_type": "code",
   "execution_count": 2,
   "id": "f5bb5813",
   "metadata": {},
   "outputs": [
    {
     "name": "stdout",
     "output_type": "stream",
     "text": [
      "OOOOOOO\n",
      "OXXXXXO\n",
      "OXXXXXO\n",
      "OXXXXXO\n",
      "OXXXXXO\n",
      "OXXXXXO\n",
      "OOOOOOO\n"
     ]
    }
   ],
   "source": [
    "size = 7\n",
    "for y in range(size):\n",
    "    row = ''\n",
    "    for x in range(size):\n",
    "        if y == 0 or y == (size - 1):\n",
    "            row += 'O'\n",
    "        elif x == 0 or x == (size - 1) :\n",
    "            row += 'O'\n",
    "        else:\n",
    "            row += 'X'\n",
    "    print(row)"
   ]
  },
  {
   "cell_type": "markdown",
   "id": "326fb751",
   "metadata": {},
   "source": [
    "문2)"
   ]
  },
  {
   "cell_type": "code",
   "execution_count": 4,
   "id": "133a7a53",
   "metadata": {},
   "outputs": [
    {
     "name": "stdout",
     "output_type": "stream",
     "text": [
      "간단한 가위 바위 보 게임을 시작하겠습니다.\n",
      "첫번째 [보] vs 두번째 [보] >> 결과는 무승부 입니다.\n"
     ]
    }
   ],
   "source": [
    "print(\"간단한 가위 바위 보 게임을 시작하겠습니다.\")\n",
    "user1 = input(\"첫번째 사람의 값을 입력해주세요.\")\n",
    "user2 = input(\"두번째 사람의 값을 입력해주세요.\")\n",
    "\n",
    "result = '승리'\n",
    "if user1 == '가위' and user2 == '바위':\n",
    "    result = '패배'\n",
    "elif user1 == '바위' and user2 == '보':\n",
    "    result = '패배'\n",
    "elif user1 == '보' and user2 == '가위':\n",
    "    result = '패배'\n",
    "elif user1 == user2:\n",
    "    result = '무승부'\n",
    "print(f'첫번째 [{user1}] vs 두번째 [{user2}] >> 결과는 {result} 입니다.')"
   ]
  },
  {
   "cell_type": "markdown",
   "id": "3c7399df",
   "metadata": {},
   "source": [
    "문3)"
   ]
  },
  {
   "cell_type": "code",
   "execution_count": 6,
   "id": "9d50dddc",
   "metadata": {},
   "outputs": [
    {
     "name": "stdout",
     "output_type": "stream",
     "text": [
      "사용자의 정수의 숫자를 입력받아 홀/짝 을 알려줍니다.\n",
      "3는 홀수 입니다.\n"
     ]
    }
   ],
   "source": [
    "print(\"사용자의 정수의 숫자를 입력받아 홀/짝 을 알려줍니다.\")\n",
    "value = input(\"입력하실 숫자를 넣어주세요.\")\n",
    "\n",
    "result = '짝수' if int(value) % 2 == 0 else '홀수'\n",
    "print(f'{value}는 {result} 입니다.')"
   ]
  },
  {
   "cell_type": "markdown",
   "id": "96676128",
   "metadata": {},
   "source": [
    "문4)"
   ]
  },
  {
   "cell_type": "code",
   "execution_count": 7,
   "id": "e7637dd6",
   "metadata": {},
   "outputs": [
    {
     "name": "stdout",
     "output_type": "stream",
     "text": [
      "사용자의 이름과 나이를 입력 받아 출력하기\n",
      "홍길동님은 16살 입니다.\n"
     ]
    }
   ],
   "source": [
    "print(\"사용자의 이름과 나이를 입력 받아 출력하기\")\n",
    "name = input(\"당신의 이름을 입력해주세요.\")\n",
    "age = input(\"당신의 나이를 입력해주세요.\")\n",
    "\n",
    "print(f'{name}님은 {age}살 입니다.')"
   ]
  },
  {
   "cell_type": "markdown",
   "id": "0332810c",
   "metadata": {},
   "source": [
    "문5)"
   ]
  },
  {
   "cell_type": "code",
   "execution_count": 9,
   "id": "50662717",
   "metadata": {},
   "outputs": [
    {
     "name": "stdout",
     "output_type": "stream",
     "text": [
      "사용자의 특정 단의 숫자를 입력 받아 구구단를 출력하기\n",
      "3 * 0 = 0\n",
      "3 * 1 = 3\n",
      "3 * 2 = 6\n",
      "3 * 3 = 9\n",
      "3 * 4 = 12\n",
      "3 * 5 = 15\n",
      "3 * 6 = 18\n",
      "3 * 7 = 21\n",
      "3 * 8 = 24\n",
      "3 * 9 = 27\n"
     ]
    }
   ],
   "source": [
    "print(\"사용자의 특정 단의 숫자를 입력 받아 구구단를 출력하기\")\n",
    "dan = input(\"출력하실 단(숫자)를 입력하세요.\")\n",
    "\n",
    "for i in range(10):\n",
    "    print(f'{dan} * {i} = {int(dan) * i}')"
   ]
  },
  {
   "cell_type": "markdown",
   "id": "3d13ebd2",
   "metadata": {},
   "source": [
    "문6)"
   ]
  },
  {
   "cell_type": "code",
   "execution_count": 10,
   "id": "ce76070d",
   "metadata": {},
   "outputs": [
    {
     "name": "stdout",
     "output_type": "stream",
     "text": [
      "별 출력하기\n",
      "*  \n",
      "** \n",
      "***\n"
     ]
    }
   ],
   "source": [
    "print(\"별 출력하기\")\n",
    "line = int(input(\"크기의 값을 넣어 주세요.\"))\n",
    "for y in range(line):\n",
    "    row = ''\n",
    "    for x in range(line):\n",
    "        row += '*' if x < (y + 1) else ' '\n",
    "    print(row)"
   ]
  },
  {
   "cell_type": "markdown",
   "id": "1791b68e",
   "metadata": {},
   "source": [
    "문7) interest 리스트의 값이 없어서 문제를 풀 수가 없습니다."
   ]
  },
  {
   "cell_type": "code",
   "execution_count": null,
   "id": "8b42fa1f",
   "metadata": {},
   "outputs": [],
   "source": []
  },
  {
   "cell_type": "markdown",
   "id": "86a45f09",
   "metadata": {},
   "source": [
    "문8)"
   ]
  },
  {
   "cell_type": "code",
   "execution_count": 11,
   "id": "65542207",
   "metadata": {},
   "outputs": [
    {
     "name": "stdout",
     "output_type": "stream",
     "text": [
      "리스트에 들어 있는 숫자의 종합을 구하기, 단 리스트의 크기는 5개로 할것\n",
      "[4, 8, 6, 2, 10] 30\n"
     ]
    }
   ],
   "source": [
    "print(\"리스트에 들어 있는 숫자의 종합을 구하기, 단 리스트의 크기는 5개로 할것\")\n",
    "list = [4,8,6,2,10]\n",
    "result = 0\n",
    "for i in list:\n",
    "    result += i\n",
    "print(list, result)"
   ]
  },
  {
   "cell_type": "markdown",
   "id": "8011449f",
   "metadata": {},
   "source": [
    "문9)"
   ]
  },
  {
   "cell_type": "code",
   "execution_count": null,
   "id": "26a01ac8",
   "metadata": {},
   "outputs": [
    {
     "name": "stdout",
     "output_type": "stream",
     "text": [
      "1에서 25까지 숫자를 출력하기, 단 각 행은 5개의 숫자를 출력 할것\n",
      "1\t2\t3\t4\t5\t\n",
      "6\t7\t8\t9\t10\t\n",
      "11\t12\t13\t14\t15\t\n",
      "16\t17\t18\t19\t20\t\n",
      "21\t22\t23\t24\t25\t\n"
     ]
    }
   ],
   "source": [
    "print(\"1에서 25까지 숫자를 출력하기, 단 각 행은 5개의 숫자를 출력 할것\")\n",
    "i = 1\n",
    "for y in range(5):\n",
    "    row = ''\n",
    "    for x in range(i, i + 5):\n",
    "        row += f'{x}\\t'\n",
    "        i += 1\n",
    "    print(row)"
   ]
  },
  {
   "cell_type": "markdown",
   "id": "460f557f",
   "metadata": {},
   "source": [
    "문10)"
   ]
  },
  {
   "cell_type": "code",
   "execution_count": 17,
   "id": "56668336",
   "metadata": {},
   "outputs": [
    {
     "name": "stdout",
     "output_type": "stream",
     "text": [
      "간단한 계산기 입니다.\n",
      "10 - 5 = 5\n"
     ]
    }
   ],
   "source": [
    "print(\"간단한 계산기 입니다.\")\n",
    "value1 = input(\"첫번째 숫자를 입력하세요.\")\n",
    "symbol = input(\"연산 기호를 입력하세요.\")\n",
    "value2 = input(\"두번째 숫자를 입력하세요.\")\n",
    "\n",
    "result = 0\n",
    "if symbol == \"+\": \n",
    "    result = int(value1) + int(value2)\n",
    "elif symbol == \"-\": \n",
    "    result = int(value1) - int(value2)\n",
    "elif symbol == \"*\": \n",
    "    result = int(value1) * int(value2)\n",
    "elif symbol == \"/\": \n",
    "    result = int(value1) / int(value2)\n",
    "    \n",
    "print(f'{value1} {symbol} {value2} = {result}')"
   ]
  },
  {
   "cell_type": "markdown",
   "id": "70aeef85",
   "metadata": {},
   "source": [
    "====================================================================================="
   ]
  },
  {
   "cell_type": "markdown",
   "id": "1cd7caca",
   "metadata": {},
   "source": [
    "문1)"
   ]
  },
  {
   "cell_type": "code",
   "execution_count": 21,
   "id": "1526ba93",
   "metadata": {},
   "outputs": [
    {
     "name": "stdout",
     "output_type": "stream",
     "text": [
      "10개의 숫자를 입력 받아 50의 숫자 보다 큰 수 출력하기\n",
      "입력 받은 10개의 수 [10, 20, 30, 40, 50, 60, 70, 80, 90, 10]\n",
      "50 이상의 수 [50, 60, 70, 80, 90]\n"
     ]
    }
   ],
   "source": [
    "print(\"10개의 숫자를 입력 받아 50의 숫자 보다 큰 수 출력하기\")\n",
    "list = []\n",
    "for i in range(10):\n",
    "    list.append(int(input(f'{i + 1} 자리 숫자를 입력하세요')))\n",
    "print(f'입력 받은 10개의 수 {list}')\n",
    "\n",
    "result = []\n",
    "for i in list:\n",
    "    if i >= 50:\n",
    "        result.append(i)\n",
    "print(f'50 이상의 수 {result}')"
   ]
  },
  {
   "cell_type": "markdown",
   "id": "2b7af62e",
   "metadata": {},
   "source": [
    "문2)"
   ]
  },
  {
   "cell_type": "code",
   "execution_count": null,
   "id": "99e60732",
   "metadata": {},
   "outputs": [],
   "source": [
    "print(\"로그인 하는 프로그램\")\n",
    "id = input(\"아이디를 입력하세요.\")\n",
    "pwd = input(\"비밀번호를 입력하세요.\")\n",
    "\n",
    "if id == 'pyson-user1' and pwd == 'pysonissodifficult1234!':\n",
    "    print(\"로그인 성공\")\n",
    "else:\n",
    "    print(\"ID 또는 비밀번호가 틀렸습니다.\")"
   ]
  },
  {
   "cell_type": "markdown",
   "id": "87445c48",
   "metadata": {},
   "source": [
    "문3)"
   ]
  },
  {
   "cell_type": "code",
   "execution_count": 23,
   "id": "7636e89a",
   "metadata": {},
   "outputs": [
    {
     "name": "stdout",
     "output_type": "stream",
     "text": [
      "10\n",
      "9\n",
      "8\n",
      "7\n",
      "6\n",
      "5\n",
      "4\n",
      "3\n",
      "2\n",
      "1\n",
      "발사!\n"
     ]
    }
   ],
   "source": [
    "cnt = 10\n",
    "i = 0\n",
    "while i < cnt:\n",
    "    print(cnt - i)\n",
    "    i += 1\n",
    "print(\"발사!\")"
   ]
  },
  {
   "cell_type": "markdown",
   "id": "85d6ed9d",
   "metadata": {},
   "source": [
    "문4)"
   ]
  },
  {
   "cell_type": "code",
   "execution_count": 24,
   "id": "e2059d8e",
   "metadata": {},
   "outputs": [
    {
     "name": "stdout",
     "output_type": "stream",
     "text": [
      "**********\n",
      "*        *\n",
      "*        *\n",
      "*        *\n",
      "*        *\n",
      "*        *\n",
      "*        *\n",
      "*        *\n",
      "*        *\n",
      "**********\n"
     ]
    }
   ],
   "source": [
    "size = int(input(\"n의 정수를 입력하세요\"))\n",
    "for y in range(size):\n",
    "    row = ''\n",
    "    for x in range(size):\n",
    "        if y == 0 or y == (size - 1):\n",
    "            row += '*'\n",
    "        elif x == 0 or x == (size - 1) :\n",
    "            row += '*'\n",
    "        else:\n",
    "            row += ' '\n",
    "    print(row)"
   ]
  },
  {
   "cell_type": "markdown",
   "id": "93c166b1",
   "metadata": {},
   "source": [
    "문5)"
   ]
  },
  {
   "cell_type": "code",
   "execution_count": 26,
   "id": "e8510d22",
   "metadata": {},
   "outputs": [
    {
     "name": "stdout",
     "output_type": "stream",
     "text": [
      "숫자 맞추기 게임\n",
      "정답이 아닙니다.\n",
      "정답입니다.\n"
     ]
    }
   ],
   "source": [
    "print(\"숫자 맞추기 게임\")\n",
    "q = input(\"정답 숫자를 입력하세요 (1~100): \")\n",
    "c = 0\n",
    "while True:\n",
    "    v = input(\"답을 입력하세요.\")\n",
    "    if q == v:\n",
    "        print(\"정답입니다.\")\n",
    "        break\n",
    "    else:\n",
    "        print(\"정답이 아닙니다.\")\n",
    "    c += 1"
   ]
  },
  {
   "cell_type": "markdown",
   "id": "9766c767",
   "metadata": {},
   "source": [
    "문6)"
   ]
  },
  {
   "cell_type": "code",
   "execution_count": 31,
   "id": "cb5baefb",
   "metadata": {},
   "outputs": [
    {
     "name": "stdout",
     "output_type": "stream",
     "text": [
      "XOXOXOXO\n",
      "OXOXOXOX\n",
      "XOXOXOXO\n",
      "OXOXOXOX\n",
      "XOXOXOXO\n",
      "OXOXOXOX\n",
      "XOXOXOXO\n",
      "OXOXOXOX\n"
     ]
    }
   ],
   "source": [
    "i = 1\n",
    "size = 8\n",
    "for y in range(size):\n",
    "    row = ''\n",
    "    for x in range(i, i + size):\n",
    "        if y % 2 == 0:\n",
    "            row += 'O' if x % 2 == 0 else 'X'\n",
    "        else:\n",
    "            row += 'X' if x % 2 == 0 else 'O'\n",
    "        i += 1\n",
    "    print(row)"
   ]
  },
  {
   "cell_type": "markdown",
   "id": "55d39574",
   "metadata": {},
   "source": [
    "문7)"
   ]
  },
  {
   "cell_type": "code",
   "execution_count": 34,
   "id": "b14e8579",
   "metadata": {},
   "outputs": [
    {
     "name": "stdout",
     "output_type": "stream",
     "text": [
      "🎬 영화 추천 프로그램에 오신 걸 환영합니다!\n",
      "원하는 영화 장르를 입력하면 추천해드릴게요.\n",
      "['존', '윅', '하하'] [] [] []\n"
     ]
    }
   ],
   "source": [
    "print(\"🎬 영화 추천 프로그램에 오신 걸 환영합니다!\")\n",
    "print(\"원하는 영화 장르를 입력하면 추천해드릴게요.\")\n",
    "\n",
    "장르 = input(\"액션, 로맨스, 코미디, 공포 장르를 입력하세요\")\n",
    "\n",
    "액션 = []\n",
    "로맨스 = []\n",
    "코미디 = []\n",
    "공포 = []\n",
    "\n",
    "if 장르 == '액션' :\n",
    "    while True:\n",
    "        영화 = input(\"영화를 입력하세요\")\n",
    "        if 영화 == '':\n",
    "            break\n",
    "        액션.append(영화)\n",
    "if 장르 == '로맨스' :\n",
    "    로맨스.append(input(\"영화를 입력하세요\"))\n",
    "if 장르 == '코미디' :\n",
    "    코미디.append(input(\"영화를 입력하세요\"))\n",
    "if 장르 == '공포' :\n",
    "    공포.append(input(\"영화를 입력하세요\"))\n",
    "    \n",
    "print(액션, 로맨스, 코미디, 공포)"
   ]
  },
  {
   "cell_type": "markdown",
   "id": "24d917e0",
   "metadata": {},
   "source": [
    "문8)"
   ]
  },
  {
   "cell_type": "code",
   "execution_count": 40,
   "id": "f83b2ead",
   "metadata": {},
   "outputs": [
    {
     "name": "stdout",
     "output_type": "stream",
     "text": [
      "XXXXOXXXX\n",
      "XXXOXOXXX\n",
      "XXOXXXOXX\n",
      "XOXXXXXOX\n",
      "OXXXXXXXO\n",
      "XOXXXXXOX\n",
      "XXOXXXOXX\n",
      "XXXOXOXXX\n",
      "XXXXOXXXX\n"
     ]
    }
   ],
   "source": [
    "size = 9\n",
    "for y in range(size):\n",
    "    row = ''\n",
    "    for x in range(size):\n",
    "        if (y == 0 or y == 8) and x == 4:\n",
    "            row += 'O'\n",
    "        elif (y == 1 or y == 7) and (x == 3 or x == 5):\n",
    "            row += 'O'\n",
    "        elif (y == 2 or y == 6) and (x == 2 or x == 6):\n",
    "            row += 'O'\n",
    "        elif (y == 3 or y == 5) and (x == 1 or x == 7):\n",
    "            row += 'O'\n",
    "        elif y == 4 and (x == 0 or x == 8):\n",
    "            row += 'O'\n",
    "        else:\n",
    "            row += 'X'\n",
    "    print(row)"
   ]
  },
  {
   "cell_type": "markdown",
   "id": "3c5bb1c3",
   "metadata": {},
   "source": [
    "문9)"
   ]
  },
  {
   "cell_type": "code",
   "execution_count": 41,
   "id": "6173ae02",
   "metadata": {},
   "outputs": [
    {
     "name": "stdout",
     "output_type": "stream",
     "text": [
      "1. 우유\n",
      "2. 계란\n",
      "3. 빵\n"
     ]
    }
   ],
   "source": [
    "list = []\n",
    "\n",
    "while True:\n",
    "    item = input(\"물건를 입력하세요.\")\n",
    "    if item == '끝':\n",
    "        break\n",
    "    list.append(item)\n",
    "    \n",
    "cnt = 1\n",
    "for item in list:\n",
    "    print(f'{cnt}. {item}')\n",
    "    cnt += 1"
   ]
  },
  {
   "cell_type": "markdown",
   "id": "9e490ac3",
   "metadata": {},
   "source": [
    "문10)"
   ]
  },
  {
   "cell_type": "code",
   "execution_count": null,
   "id": "f186cd6b",
   "metadata": {},
   "outputs": [
    {
     "name": "stdout",
     "output_type": "stream",
     "text": [
      "OXXXX\n",
      "XXXXX\n",
      "XXOXX\n",
      "XXXXX\n",
      "XXXXX\n"
     ]
    }
   ],
   "source": [
    "s1 = 5\n",
    "s2 = 7\n",
    "s3 = 9\n",
    "center = s1 // 2\n",
    "for y in range(s1):\n",
    "    row = ''\n",
    "    for x in range(s1):\n",
    "        if y == center and x == center:\n",
    "            row += 'O'\n",
    "        else:\n",
    "            row += 'X'\n",
    "    print(row)"
   ]
  }
 ],
 "metadata": {
  "kernelspec": {
   "display_name": "Python 3",
   "language": "python",
   "name": "python3"
  },
  "language_info": {
   "codemirror_mode": {
    "name": "ipython",
    "version": 3
   },
   "file_extension": ".py",
   "mimetype": "text/x-python",
   "name": "python",
   "nbconvert_exporter": "python",
   "pygments_lexer": "ipython3",
   "version": "3.13.5"
  }
 },
 "nbformat": 4,
 "nbformat_minor": 5
}
