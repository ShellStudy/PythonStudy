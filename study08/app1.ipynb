{
 "cells": [
  {
   "cell_type": "code",
   "execution_count": 1,
   "id": "3445176b",
   "metadata": {},
   "outputs": [
    {
     "name": "stdout",
     "output_type": "stream",
     "text": [
      "<class 'dict'>\n"
     ]
    }
   ],
   "source": [
    "데이터 = {\"k1\": \"값1\"}\n",
    "print(type(데이터))"
   ]
  },
  {
   "cell_type": "code",
   "execution_count": 2,
   "id": "ba44789a",
   "metadata": {},
   "outputs": [
    {
     "name": "stdout",
     "output_type": "stream",
     "text": [
      "값1\n"
     ]
    }
   ],
   "source": [
    "print(데이터[\"k1\"])"
   ]
  },
  {
   "cell_type": "code",
   "execution_count": 3,
   "id": "cb33ec48",
   "metadata": {},
   "outputs": [
    {
     "name": "stdout",
     "output_type": "stream",
     "text": [
      "{'k1': 10}\n"
     ]
    }
   ],
   "source": [
    "데이터[\"k1\"] = 10\n",
    "print(데이터)"
   ]
  },
  {
   "cell_type": "code",
   "execution_count": 4,
   "id": "71f5dfe4",
   "metadata": {},
   "outputs": [
    {
     "name": "stdout",
     "output_type": "stream",
     "text": [
      "{'k1': 10, 2: 100}\n"
     ]
    }
   ],
   "source": [
    "데이터[2] = 100\n",
    "print(데이터)"
   ]
  },
  {
   "cell_type": "code",
   "execution_count": 5,
   "id": "c6c560b6",
   "metadata": {},
   "outputs": [
    {
     "name": "stdout",
     "output_type": "stream",
     "text": [
      "{'k1': 10, 2: 100, 'k3': [], 'k4': ()}\n"
     ]
    }
   ],
   "source": [
    "데이터[\"k3\"] = []\n",
    "데이터[\"k4\"] = ()\n",
    "print(데이터)"
   ]
  },
  {
   "cell_type": "code",
   "execution_count": 7,
   "id": "8a0b4955",
   "metadata": {},
   "outputs": [
    {
     "name": "stdout",
     "output_type": "stream",
     "text": [
      "{'k1': 10, 2: 100, 'k3': [], 'k4': (), True: 1}\n"
     ]
    }
   ],
   "source": [
    "데이터[True] = 1\n",
    "print(데이터)"
   ]
  },
  {
   "cell_type": "code",
   "execution_count": 10,
   "id": "62ef3bf0",
   "metadata": {},
   "outputs": [
    {
     "name": "stdout",
     "output_type": "stream",
     "text": [
      "10\n",
      "100\n",
      "[]\n",
      "()\n",
      "1\n"
     ]
    }
   ],
   "source": [
    "for i in 데이터:\n",
    "    print(데이터[i])"
   ]
  },
  {
   "cell_type": "code",
   "execution_count": 12,
   "id": "65a5e6ca",
   "metadata": {},
   "outputs": [
    {
     "name": "stdout",
     "output_type": "stream",
     "text": [
      "<class 'dict_values'>\n"
     ]
    }
   ],
   "source": [
    "print(type(데이터.values()))"
   ]
  },
  {
   "cell_type": "code",
   "execution_count": 13,
   "id": "c0a496aa",
   "metadata": {},
   "outputs": [
    {
     "name": "stdout",
     "output_type": "stream",
     "text": [
      "{}\n"
     ]
    }
   ],
   "source": [
    "데이터.clear()\n",
    "print(데이터)"
   ]
  },
  {
   "cell_type": "code",
   "execution_count": 17,
   "id": "bec727d8",
   "metadata": {},
   "outputs": [
    {
     "name": "stdout",
     "output_type": "stream",
     "text": [
      "사용자의 이름과 나이를 입력 받아 출력하기\n",
      "[{'name': '홍길동', 'age': '16'}, {'name': '아이유', 'age': '30'}]\n",
      "아이유는 30살 입니다.\n"
     ]
    }
   ],
   "source": [
    "print(\"사용자의 이름과 나이를 입력 받아 출력하기\")\n",
    "사용자목록 = []\n",
    "\n",
    "while True:\n",
    "    사용자 = {}\n",
    "    name = input(\"당신의 이름을 입력해주세요.\")\n",
    "    if name == '':\n",
    "        break\n",
    "    사용자['name'] = name\n",
    "\n",
    "    age = input(\"당신의 나이를 입력해주세요.\")\n",
    "    사용자['age'] = age\n",
    "\n",
    "    사용자목록.append(사용자)\n",
    "\n",
    "print(사용자목록)\n",
    "\n",
    "while True:\n",
    "    선택 = input(\"찾으실 사용자 이름을 입력하세요\")\n",
    "    if 선택 == '':\n",
    "        break\n",
    "    for r in 사용자목록:\n",
    "        if 선택 == r['name']:\n",
    "            print(f'{r['name']}는 {r['age']}살 입니다.')"
   ]
  }
 ],
 "metadata": {
  "kernelspec": {
   "display_name": "Python 3",
   "language": "python",
   "name": "python3"
  },
  "language_info": {
   "codemirror_mode": {
    "name": "ipython",
    "version": 3
   },
   "file_extension": ".py",
   "mimetype": "text/x-python",
   "name": "python",
   "nbconvert_exporter": "python",
   "pygments_lexer": "ipython3",
   "version": "3.13.5"
  }
 },
 "nbformat": 4,
 "nbformat_minor": 5
}
