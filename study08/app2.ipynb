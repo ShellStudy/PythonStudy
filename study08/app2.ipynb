{
 "cells": [
  {
   "cell_type": "code",
   "execution_count": 1,
   "id": "20a8d5dd",
   "metadata": {},
   "outputs": [],
   "source": [
    "def 더하기(a, b):\n",
    "    print(a + b)"
   ]
  },
  {
   "cell_type": "code",
   "execution_count": 2,
   "id": "24790467",
   "metadata": {},
   "outputs": [
    {
     "name": "stdout",
     "output_type": "stream",
     "text": [
      "14\n"
     ]
    }
   ],
   "source": [
    "더하기(10, 4) # 14"
   ]
  },
  {
   "cell_type": "code",
   "execution_count": 3,
   "id": "99570e17",
   "metadata": {},
   "outputs": [],
   "source": [
    "def 더하기(a, b):\n",
    "    return a + b\n",
    "\n",
    "결과 = 더하기(20, 10) # 30"
   ]
  },
  {
   "cell_type": "code",
   "execution_count": 4,
   "id": "a475831b",
   "metadata": {},
   "outputs": [
    {
     "name": "stdout",
     "output_type": "stream",
     "text": [
      "30\n"
     ]
    }
   ],
   "source": [
    "print(결과)"
   ]
  },
  {
   "cell_type": "markdown",
   "id": "be8b88cb",
   "metadata": {},
   "source": [
    "문제) 간단한 계산기를 만드세요"
   ]
  }
 ],
 "metadata": {
  "kernelspec": {
   "display_name": "Python 3",
   "language": "python",
   "name": "python3"
  },
  "language_info": {
   "codemirror_mode": {
    "name": "ipython",
    "version": 3
   },
   "file_extension": ".py",
   "mimetype": "text/x-python",
   "name": "python",
   "nbconvert_exporter": "python",
   "pygments_lexer": "ipython3",
   "version": "3.13.5"
  }
 },
 "nbformat": 4,
 "nbformat_minor": 5
}
