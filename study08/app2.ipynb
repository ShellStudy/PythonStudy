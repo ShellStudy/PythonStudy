{
 "cells": [
  {
   "cell_type": "code",
   "execution_count": 1,
   "id": "20a8d5dd",
   "metadata": {},
   "outputs": [],
   "source": [
    "def 더하기(a, b):\n",
    "    print(a + b)"
   ]
  },
  {
   "cell_type": "code",
   "execution_count": 2,
   "id": "24790467",
   "metadata": {},
   "outputs": [
    {
     "name": "stdout",
     "output_type": "stream",
     "text": [
      "14\n"
     ]
    }
   ],
   "source": [
    "더하기(10, 4) # 14"
   ]
  },
  {
   "cell_type": "code",
   "execution_count": 7,
   "id": "99570e17",
   "metadata": {},
   "outputs": [],
   "source": [
    "def f1(a, b):\n",
    "    return int(a) + int(b)\n",
    "\n",
    "def f2(a, b):\n",
    "    return int(a) - int(b)\n",
    "\n",
    "def f3(a, b):\n",
    "    return int(a) * int(b)\n",
    "\n",
    "def f4(a, b):\n",
    "    return int(a) / int(b)\n",
    "\n",
    "#결과 = 더하기(20, 10) # 30"
   ]
  },
  {
   "cell_type": "markdown",
   "id": "be8b88cb",
   "metadata": {},
   "source": [
    "문제) 간단한 계산기를 만드세요"
   ]
  },
  {
   "cell_type": "code",
   "execution_count": 8,
   "id": "d52d0daf",
   "metadata": {},
   "outputs": [
    {
     "name": "stdout",
     "output_type": "stream",
     "text": [
      "3\n"
     ]
    }
   ],
   "source": [
    "while True:\n",
    "    a = input(\"첫번째 숫자\")\n",
    "    s = input(\"연산 기호를 입력하세요.\")\n",
    "    b = input(\"두번째 숫자\")\n",
    "    \n",
    "    if s == \"+\":\n",
    "        print(f1(a, b))\n",
    "    elif s == \"-\":\n",
    "        print(f2(a, b))\n",
    "    elif s == \"*\":\n",
    "        print(f3(a, b))\n",
    "    elif s == \"/\":\n",
    "        print(f4(a, b))\n",
    "    else:\n",
    "        break\n",
    "    "
   ]
  }
 ],
 "metadata": {
  "kernelspec": {
   "display_name": "Python 3",
   "language": "python",
   "name": "python3"
  },
  "language_info": {
   "codemirror_mode": {
    "name": "ipython",
    "version": 3
   },
   "file_extension": ".py",
   "mimetype": "text/x-python",
   "name": "python",
   "nbconvert_exporter": "python",
   "pygments_lexer": "ipython3",
   "version": "3.13.5"
  }
 },
 "nbformat": 4,
 "nbformat_minor": 5
}
