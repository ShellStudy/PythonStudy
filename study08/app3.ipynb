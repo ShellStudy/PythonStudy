{
 "cells": [
  {
   "cell_type": "code",
   "execution_count": null,
   "id": "f762a04e",
   "metadata": {},
   "outputs": [
    {
     "name": "stdout",
     "output_type": "stream",
     "text": [
      "1 1\n",
      "1\n"
     ]
    }
   ],
   "source": [
    "전역변수 = 1\n",
    "\n",
    "def 함수(지역변수):\n",
    "    print(전역변수, 지역변수)\n",
    "\n",
    "함수(전역변수)    \n",
    "# print(전역변수, 지역변수)"
   ]
  },
  {
   "cell_type": "code",
   "execution_count": 3,
   "id": "61be1907",
   "metadata": {},
   "outputs": [
    {
     "name": "stdout",
     "output_type": "stream",
     "text": [
      "2 1\n",
      "3\n"
     ]
    }
   ],
   "source": [
    "a = 1\n",
    "b = 2\n",
    "\n",
    "def 더하기(a, b):\n",
    "    print(a, b)\n",
    "    return a + b\n",
    "\n",
    "print(더하기(b, a))"
   ]
  },
  {
   "cell_type": "markdown",
   "id": "fb8238a6",
   "metadata": {},
   "source": [
    "문1) 1차원 배열(리스트)의 값의 평균값을 구하시오, 단 함수를 이용하세요.\n",
    "arr1 = [80,76,63,83,99,87,100,42,68,55]"
   ]
  },
  {
   "cell_type": "code",
   "execution_count": 7,
   "id": "a097e321",
   "metadata": {},
   "outputs": [
    {
     "name": "stdout",
     "output_type": "stream",
     "text": [
      "75.3\n"
     ]
    }
   ],
   "source": [
    "arr1 = [80,76,63,83,99,87,100,42,68,55]\n",
    "\n",
    "def 평균값(list):\n",
    "    # 평균값 구하는 코드를 넣어주세요.\n",
    "    합 = 0\n",
    "    갯수 = 0\n",
    "    for i in list:\n",
    "        합 += i\n",
    "        갯수 += 1\n",
    "    return 합 / 갯수\n",
    "\n",
    "print(평균값(arr1))"
   ]
  },
  {
   "cell_type": "code",
   "execution_count": 8,
   "id": "c23af583",
   "metadata": {},
   "outputs": [
    {
     "name": "stdout",
     "output_type": "stream",
     "text": [
      "75.3\n"
     ]
    }
   ],
   "source": [
    "arr1 = [80,76,63,83,99,87,100,42,68,55]\n",
    "\n",
    "def 평균값(list):\n",
    "    return sum(list) / len(list)\n",
    "\n",
    "print(평균값(arr1))"
   ]
  }
 ],
 "metadata": {
  "kernelspec": {
   "display_name": "Python 3",
   "language": "python",
   "name": "python3"
  },
  "language_info": {
   "codemirror_mode": {
    "name": "ipython",
    "version": 3
   },
   "file_extension": ".py",
   "mimetype": "text/x-python",
   "name": "python",
   "nbconvert_exporter": "python",
   "pygments_lexer": "ipython3",
   "version": "3.13.5"
  }
 },
 "nbformat": 4,
 "nbformat_minor": 5
}
