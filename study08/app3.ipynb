{
 "cells": [
  {
   "cell_type": "code",
   "execution_count": null,
   "id": "f762a04e",
   "metadata": {},
   "outputs": [
    {
     "name": "stdout",
     "output_type": "stream",
     "text": [
      "1 1\n",
      "1\n"
     ]
    }
   ],
   "source": [
    "전역변수 = 1\n",
    "\n",
    "def 함수(지역변수):\n",
    "    print(전역변수, 지역변수)\n",
    "\n",
    "함수(전역변수)    \n",
    "# print(전역변수, 지역변수)"
   ]
  },
  {
   "cell_type": "code",
   "execution_count": 3,
   "id": "61be1907",
   "metadata": {},
   "outputs": [
    {
     "name": "stdout",
     "output_type": "stream",
     "text": [
      "2 1\n",
      "3\n"
     ]
    }
   ],
   "source": [
    "a = 1\n",
    "b = 2\n",
    "\n",
    "def 더하기(a, b):\n",
    "    print(a, b)\n",
    "    return a + b\n",
    "\n",
    "print(더하기(b, a))"
   ]
  },
  {
   "cell_type": "markdown",
   "id": "fb8238a6",
   "metadata": {},
   "source": [
    "문1) 1차원 배열(리스트)의 값의 평균값을 구하시오, 단 함수를 이용하세요.\n",
    "arr1 = [80,76,63,83,99,87,100,42,68,55]"
   ]
  },
  {
   "cell_type": "code",
   "execution_count": 31,
   "id": "a097e321",
   "metadata": {},
   "outputs": [
    {
     "name": "stdout",
     "output_type": "stream",
     "text": [
      "75.3\n"
     ]
    }
   ],
   "source": [
    "arr1 = [80,76,63,83,99,87,100,42,68,55]\n",
    "\n",
    "def 평균값(list):\n",
    "    # 평균값 구하는 코드를 넣어주세요.\n",
    "    합 = 0\n",
    "    갯수 = 0\n",
    "    for i in list:\n",
    "        합 += i\n",
    "        갯수 += 1\n",
    "    return 합 / 갯수\n",
    "\n",
    "print(평균값(arr1))"
   ]
  },
  {
   "cell_type": "code",
   "execution_count": 32,
   "id": "c23af583",
   "metadata": {},
   "outputs": [
    {
     "name": "stdout",
     "output_type": "stream",
     "text": [
      "75.3\n"
     ]
    }
   ],
   "source": [
    "arr1 = [80,76,63,83,99,87,100,42,68,55]\n",
    "\n",
    "def 평균값(list):\n",
    "    return sum(list) / len(list)\n",
    "\n",
    "print(평균값(arr1))"
   ]
  },
  {
   "cell_type": "markdown",
   "id": "47f56afd",
   "metadata": {},
   "source": [
    "문2) 2차원 배열의 표에서 가장 점수가 높은 학생을 구하시오, 단 함수를 이용하세요."
   ]
  },
  {
   "cell_type": "code",
   "execution_count": 35,
   "id": "b3b780b9",
   "metadata": {},
   "outputs": [
    {
     "name": "stdout",
     "output_type": "stream",
     "text": [
      "가장 점수가 높은 학생 강감찬\n"
     ]
    }
   ],
   "source": [
    "arr2 = [\n",
    "    [\"홍길동\", 80],\n",
    "    [\"류관순\", 76],\n",
    "    [\"강감찬\", 99],\n",
    "    [\"이성계\", 87],\n",
    "    [\"이황\", 68]\n",
    "]\n",
    "\n",
    "def 점수확인(list):\n",
    "    비교 = list[0]\n",
    "    for i in range(1, len(list)):\n",
    "        if 비교[1] < arr2[i][1]:\n",
    "            비교 = arr2[i]\n",
    "    return 비교[0]\n",
    "\n",
    "print('가장 점수가 높은 학생', 점수확인(arr2))"
   ]
  },
  {
   "cell_type": "markdown",
   "id": "cf9d65e5",
   "metadata": {},
   "source": [
    "문3) 2차원 배열의 표에서 평균 값을 구한 후 평균 값 이상인 학생만 구하시오, 단 함수를 이용하세요."
   ]
  },
  {
   "cell_type": "code",
   "execution_count": 36,
   "id": "8f4f3f5d",
   "metadata": {},
   "outputs": [
    {
     "name": "stdout",
     "output_type": "stream",
     "text": [
      "평균 값 이상인 학생 [['강감찬', 99], ['이성계', 87]]\n"
     ]
    }
   ],
   "source": [
    "arr3 = [\n",
    "    [\"홍길동\", 80],\n",
    "    [\"류관순\", 76],\n",
    "    [\"강감찬\", 99],\n",
    "    [\"이성계\", 87],\n",
    "    [\"이황\", 68]\n",
    "]\n",
    "\n",
    "def 점수확인(list):\n",
    "    배열 = []\n",
    "    합계 = 0\n",
    "    for r in list:\n",
    "        합계 += r[1]\n",
    "    평균 = 합계 / len(list) \n",
    "    for r in list:\n",
    "        if 평균 < r[1]:\n",
    "            배열.append(r)\n",
    "    return 배열\n",
    "\n",
    "print('평균 값 이상인 학생', 점수확인(arr3))"
   ]
  },
  {
   "cell_type": "markdown",
   "id": "6ea5cc68",
   "metadata": {},
   "source": [
    "문4) 배열에서 홀수와 짝수를 따로 반환해 각 배열을 오름차순 정렬하여 출력한 뒤, 각 배열의 평균값을 구하시오.\n",
    "* 힌트 : 오름차순 정렬를 하기 위해서 '버블 정렬'이 필요합니다. *"
   ]
  },
  {
   "cell_type": "code",
   "execution_count": 39,
   "id": "e33dec2d",
   "metadata": {},
   "outputs": [
    {
     "name": "stdout",
     "output_type": "stream",
     "text": [
      "홀수 [5, 15, 35, 47, 47, 55, 79, 87] 짝수 [12, 18, 24, 44, 98]\n",
      "홀수 평균값 46.25 짝수 평균값 39.2\n"
     ]
    }
   ],
   "source": [
    "arr4 = [18,44,87,35,15,24,79,12,55,47,47,98,5]\n",
    "홀수 = []\n",
    "짝수 = []\n",
    "\n",
    "def 배열만들기(list):\n",
    "    for d in list:\n",
    "        if d % 2 == 0:\n",
    "            짝수.append(d)\n",
    "        else:\n",
    "            홀수.append(d)\n",
    "\n",
    "def 정렬(list):\n",
    "    for i in range(len(list)):\n",
    "        for j in range(len(list) -1 -i):\n",
    "            if list[j] > list[j + 1]:\n",
    "                잠시가지고있기 = list[j]\n",
    "                list[j] = list[j + 1]\n",
    "                list[j + 1] = 잠시가지고있기\n",
    "    return list\n",
    "\n",
    "def 평균(list):\n",
    "    return sum(list) / len(list)\n",
    "\n",
    "배열만들기(arr4)\n",
    "print('홀수', 정렬(홀수), '짝수', 정렬(짝수))\n",
    "print('홀수 평균값', 평균(정렬(홀수)), '짝수 평균값', 평균(정렬(짝수)))"
   ]
  },
  {
   "cell_type": "markdown",
   "id": "838f8d96",
   "metadata": {},
   "source": [
    "문5) 2차원 배열의 표에서 점수 평균을 구하시고, 가장 점수가 높은 학생과 가장 점수가 낮은 학생을 구하시오.\n",
    "* 힌트 : 점수를 확인하기 위해서 '버블 정렬'이 필요합니다. *"
   ]
  },
  {
   "cell_type": "code",
   "execution_count": 38,
   "id": "0847d32c",
   "metadata": {},
   "outputs": [
    {
     "name": "stdout",
     "output_type": "stream",
     "text": [
      "평균값 83.4\n",
      "점수확인 {'낮은아이': ['C', 75], '높은아이': ['B', 93]}\n"
     ]
    }
   ],
   "source": [
    "arr5 = [\n",
    "    [\"A\", 79],\n",
    "    [\"B\", 93],\n",
    "    [\"C\", 75],\n",
    "    [\"D\", 89],\n",
    "    [\"E\", 81],\n",
    "]\n",
    "\n",
    "def 평균값구하기(list):\n",
    "    합계 = 0\n",
    "    for r in list:\n",
    "        합계 += r[1]\n",
    "    return 합계 / len(list)\n",
    "\n",
    "def 점수확인하기(list):\n",
    "    for i in range(len(list)):\n",
    "        for j in range(len(list) - 1 -i):\n",
    "            if list[j][1] > list[j + 1][1]:\n",
    "                잠시가지고있기 = list[j]\n",
    "                list[j] = list[j + 1]\n",
    "                list[j + 1] = 잠시가지고있기\n",
    "    점수 = {}\n",
    "    점수['낮은아이'] = list[0]\n",
    "    점수['높은아이'] = list[len(list) - 1]\n",
    "    return 점수\n",
    "            \n",
    "print('평균값', 평균값구하기(arr5))\n",
    "print('점수확인', 점수확인하기(arr5))"
   ]
  }
 ],
 "metadata": {
  "kernelspec": {
   "display_name": "Python 3",
   "language": "python",
   "name": "python3"
  },
  "language_info": {
   "codemirror_mode": {
    "name": "ipython",
    "version": 3
   },
   "file_extension": ".py",
   "mimetype": "text/x-python",
   "name": "python",
   "nbconvert_exporter": "python",
   "pygments_lexer": "ipython3",
   "version": "3.13.5"
  }
 },
 "nbformat": 4,
 "nbformat_minor": 5
}
