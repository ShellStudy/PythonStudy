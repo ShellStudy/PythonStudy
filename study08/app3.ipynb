{
 "cells": [
  {
   "cell_type": "code",
   "execution_count": null,
   "id": "f762a04e",
   "metadata": {},
   "outputs": [
    {
     "name": "stdout",
     "output_type": "stream",
     "text": [
      "1 1\n",
      "1\n"
     ]
    }
   ],
   "source": [
    "전역변수 = 1\n",
    "\n",
    "def 함수(지역변수):\n",
    "    print(전역변수, 지역변수)\n",
    "\n",
    "함수(전역변수)    \n",
    "# print(전역변수, 지역변수)"
   ]
  },
  {
   "cell_type": "code",
   "execution_count": 3,
   "id": "61be1907",
   "metadata": {},
   "outputs": [
    {
     "name": "stdout",
     "output_type": "stream",
     "text": [
      "2 1\n",
      "3\n"
     ]
    }
   ],
   "source": [
    "a = 1\n",
    "b = 2\n",
    "\n",
    "def 더하기(a, b):\n",
    "    print(a, b)\n",
    "    return a + b\n",
    "\n",
    "print(더하기(b, a))"
   ]
  },
  {
   "cell_type": "markdown",
   "id": "fb8238a6",
   "metadata": {},
   "source": [
    "문1) 1차원 배열(리스트)의 값의 평균값을 구하시오, 단 함수를 이용하세요.\n",
    "arr1 = [80,76,63,83,99,87,100,42,68,55]"
   ]
  },
  {
   "cell_type": "code",
   "execution_count": 7,
   "id": "a097e321",
   "metadata": {},
   "outputs": [
    {
     "name": "stdout",
     "output_type": "stream",
     "text": [
      "75.3\n"
     ]
    }
   ],
   "source": [
    "arr1 = [80,76,63,83,99,87,100,42,68,55]\n",
    "\n",
    "def 평균값(list):\n",
    "    # 평균값 구하는 코드를 넣어주세요.\n",
    "    합 = 0\n",
    "    갯수 = 0\n",
    "    for i in list:\n",
    "        합 += i\n",
    "        갯수 += 1\n",
    "    return 합 / 갯수\n",
    "\n",
    "print(평균값(arr1))"
   ]
  },
  {
   "cell_type": "code",
   "execution_count": 8,
   "id": "c23af583",
   "metadata": {},
   "outputs": [
    {
     "name": "stdout",
     "output_type": "stream",
     "text": [
      "75.3\n"
     ]
    }
   ],
   "source": [
    "arr1 = [80,76,63,83,99,87,100,42,68,55]\n",
    "\n",
    "def 평균값(list):\n",
    "    return sum(list) / len(list)\n",
    "\n",
    "print(평균값(arr1))"
   ]
  },
  {
   "cell_type": "markdown",
   "id": "47f56afd",
   "metadata": {},
   "source": [
    "문2) 2차원 배열의 표에서 가장 점수가 높은 학생을 구하시오, 단 함수를 이용하세요."
   ]
  },
  {
   "cell_type": "code",
   "execution_count": 9,
   "id": "b3b780b9",
   "metadata": {},
   "outputs": [
    {
     "name": "stdout",
     "output_type": "stream",
     "text": [
      "0\n"
     ]
    }
   ],
   "source": [
    "arr2 = [\n",
    "    [\"홍길동\", 80],\n",
    "    [\"류관순\", 76],\n",
    "    [\"강감찬\", 99],\n",
    "    [\"이성계\", 87],\n",
    "    [\"이황\", 68]\n",
    "]\n",
    "\n",
    "def 점수확인(list):\n",
    "    return 0\n",
    "\n",
    "print(점수확인(arr2))"
   ]
  },
  {
   "cell_type": "markdown",
   "id": "cf9d65e5",
   "metadata": {},
   "source": [
    "문3) 2차원 배열의 표에서 평균 값을 구한 후 평균 값 이상인 학생만 구하시오, 단 함수를 이용하세요."
   ]
  },
  {
   "cell_type": "code",
   "execution_count": null,
   "id": "8f4f3f5d",
   "metadata": {},
   "outputs": [],
   "source": [
    "arr3 = [\n",
    "    [\"홍길동\", 80],\n",
    "    [\"류관순\", 76],\n",
    "    [\"강감찬\", 99],\n",
    "    [\"이성계\", 87],\n",
    "    [\"이황\", 68]\n",
    "]\n",
    "\n",
    "def 점수확인(list):\n",
    "    return 0\n",
    "\n",
    "print(점수확인(arr3))"
   ]
  },
  {
   "cell_type": "markdown",
   "id": "6ea5cc68",
   "metadata": {},
   "source": [
    "문4) 배열에서 홀수와 짝수를 따로 반환해 각 배열을 오름차순 정렬하여 출력한 뒤, 각 배열의 평균값을 구하시오."
   ]
  },
  {
   "cell_type": "code",
   "execution_count": null,
   "id": "e33dec2d",
   "metadata": {},
   "outputs": [],
   "source": [
    "arr4 = [18,44,87,35,15,24,79,12,55,47,47,98,5]\n",
    "홀수 = []\n",
    "짝수 = []"
   ]
  },
  {
   "cell_type": "markdown",
   "id": "838f8d96",
   "metadata": {},
   "source": [
    "문5) 2차원 배열의 표에서 점수 평균을 구하시고, 가장 점수가 높은 학생과 가장 점수가 낮은 학생을 구하시오."
   ]
  },
  {
   "cell_type": "code",
   "execution_count": null,
   "id": "0847d32c",
   "metadata": {},
   "outputs": [],
   "source": [
    "arr5 = [\n",
    "    [\"A\", 79],\n",
    "    [\"B\", 93],\n",
    "    [\"C\", 75],\n",
    "    [\"D\", 89],\n",
    "    [\"E\", 81],\n",
    "]"
   ]
  }
 ],
 "metadata": {
  "kernelspec": {
   "display_name": "Python 3",
   "language": "python",
   "name": "python3"
  },
  "language_info": {
   "codemirror_mode": {
    "name": "ipython",
    "version": 3
   },
   "file_extension": ".py",
   "mimetype": "text/x-python",
   "name": "python",
   "nbconvert_exporter": "python",
   "pygments_lexer": "ipython3",
   "version": "3.13.5"
  }
 },
 "nbformat": 4,
 "nbformat_minor": 5
}
