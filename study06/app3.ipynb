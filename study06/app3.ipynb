{
 "cells": [
  {
   "cell_type": "code",
   "execution_count": null,
   "id": "70950293",
   "metadata": {},
   "outputs": [],
   "source": [
    "# 간단한 자판기 프로그램\n",
    "\n",
    "# 자판기 메뉴 (음료 이름과 가격)\n",
    "menu = {\n",
    "    \"콜라\": 1000,\n",
    "    \"사이다\": 1000,\n",
    "    \"커피\": 1500,\n",
    "    \"물\": 700\n",
    "}\n",
    "\n",
    "def print_menu():\n",
    "    print(\"\\n=== 자판기 메뉴 ===\")\n",
    "    for drink, price in menu.items():\n",
    "        print(f\"{drink}: {price}원\")\n",
    "\n",
    "def vending_machine():\n",
    "    money = int(input(\"돈을 넣어주세요 (원): \"))\n",
    "\n",
    "    while True:\n",
    "        print_menu()\n",
    "        choice = input(\"원하는 음료를 선택하세요 (종료하려면 '종료' 입력): \")\n",
    "\n",
    "        if choice == \"종료\":\n",
    "            print(f\"잔돈 {money}원을 반환합니다. 감사합니다!\")\n",
    "            break\n",
    "        elif choice in menu:\n",
    "            price = menu[choice]\n",
    "            if money >= price:\n",
    "                money -= price\n",
    "                print(f\"{choice}를 드렸습니다. 남은 금액: {money}원\")\n",
    "            else:\n",
    "                print(f\"잔액이 부족합니다. 현재 잔액: {money}원\")\n",
    "        else:\n",
    "            print(\"메뉴에 없는 음료입니다. 다시 선택해주세요.\")\n",
    "\n",
    "vending_machine()\n"
   ]
  }
 ],
 "metadata": {
  "language_info": {
   "name": "python"
  }
 },
 "nbformat": 4,
 "nbformat_minor": 5
}
