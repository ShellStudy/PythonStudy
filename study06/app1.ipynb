{
 "cells": [
  {
   "cell_type": "code",
   "execution_count": null,
   "id": "5367a565",
   "metadata": {},
   "outputs": [
    {
     "name": "stdout",
     "output_type": "stream",
     "text": [
      "<class 'list'>\n"
     ]
    }
   ],
   "source": [
    "a = []\n",
    "print(type(a))"
   ]
  },
  {
   "cell_type": "code",
   "execution_count": 2,
   "id": "5f1c0fac",
   "metadata": {},
   "outputs": [
    {
     "name": "stdout",
     "output_type": "stream",
     "text": [
      "[1, 2, 4, 6]\n"
     ]
    }
   ],
   "source": [
    "a = [1,2,4,6]\n",
    "print(a)"
   ]
  },
  {
   "cell_type": "code",
   "execution_count": 3,
   "id": "7bbefeb1",
   "metadata": {},
   "outputs": [
    {
     "name": "stdout",
     "output_type": "stream",
     "text": [
      "1\n",
      "2\n",
      "4\n",
      "6\n"
     ]
    }
   ],
   "source": [
    "for b in a:\n",
    "    print(b)"
   ]
  },
  {
   "cell_type": "code",
   "execution_count": 5,
   "id": "c18a88eb",
   "metadata": {},
   "outputs": [
    {
     "name": "stdout",
     "output_type": "stream",
     "text": [
      "4\n",
      "5\n",
      "6\n",
      "7\n",
      "8\n",
      "9\n"
     ]
    }
   ],
   "source": [
    "for b in range(4, 10):\n",
    "    print(b)"
   ]
  },
  {
   "cell_type": "code",
   "execution_count": null,
   "id": "99621a8d",
   "metadata": {},
   "outputs": [],
   "source": [
    "단 = [1,2,3,4,5,6,7,8,9]\n",
    "곱 = range(1,10)\n",
    "for a in 단:\n",
    "    print(a)\n",
    "    for b in 곱:\n",
    "        print(f'{a} * {b} = {a * b}')"
   ]
  },
  {
   "cell_type": "code",
   "execution_count": 9,
   "id": "bbfc6d80",
   "metadata": {},
   "outputs": [
    {
     "name": "stdout",
     "output_type": "stream",
     "text": [
      "1\n",
      "2\n",
      "3\n",
      "5\n",
      "[1, 2, 3, 5]\n"
     ]
    }
   ],
   "source": [
    "값 = [1,2,3,5]\n",
    "결과 = []\n",
    "for 변수 in 값:\n",
    "    print(변수)\n",
    "    결과.append(변수)\n",
    "print(결과)"
   ]
  },
  {
   "cell_type": "code",
   "execution_count": 10,
   "id": "401d94d7",
   "metadata": {},
   "outputs": [
    {
     "name": "stdout",
     "output_type": "stream",
     "text": [
      "[]\n",
      "<class 'list'>\n",
      "[]\n",
      "<class 'list'>\n",
      "[]\n",
      "<class 'list'>\n",
      "[]\n",
      "<class 'list'>\n",
      "[]\n",
      "<class 'list'>\n",
      "[]\n",
      "<class 'list'>\n"
     ]
    }
   ],
   "source": [
    "단 = []\n",
    "곱 = []\n",
    "구구단 = [[],[],[],[],[],[]]\n",
    "for 리스트 in 구구단:\n",
    "    print(리스트)\n",
    "    print(type(리스트))"
   ]
  },
  {
   "cell_type": "code",
   "execution_count": null,
   "id": "3903d401",
   "metadata": {},
   "outputs": [],
   "source": [
    "for 단 in range(1, 10):\n",
    "    for 곱 in range(1, 10):\n",
    "        print(f'{단} * {곱} = {단 * 곱}')"
   ]
  },
  {
   "cell_type": "code",
   "execution_count": null,
   "id": "151d850c",
   "metadata": {},
   "outputs": [
    {
     "name": "stdout",
     "output_type": "stream",
     "text": [
      "[[], [], [], [], [], [], [], [], []]\n"
     ]
    }
   ],
   "source": [
    "결과 = []\n",
    "for 단 in range(1, 10):\n",
    "    빈배열 = []\n",
    "    for 곱 in range(1, 10):\n",
    "        빈배열.append(f'{단} * {곱} = {단 * 곱}')\n",
    "    결과.append(빈배열)\n",
    "\n",
    "print(결과)"
   ]
  },
  {
   "cell_type": "code",
   "execution_count": 15,
   "id": "c9fa294c",
   "metadata": {},
   "outputs": [
    {
     "name": "stdout",
     "output_type": "stream",
     "text": [
      "10\n"
     ]
    }
   ],
   "source": [
    "배열 = [1,2,3]\n",
    "배열[1] = 10\n",
    "print(배열[1])"
   ]
  }
 ],
 "metadata": {
  "kernelspec": {
   "display_name": "Python 3",
   "language": "python",
   "name": "python3"
  },
  "language_info": {
   "codemirror_mode": {
    "name": "ipython",
    "version": 3
   },
   "file_extension": ".py",
   "mimetype": "text/x-python",
   "name": "python",
   "nbconvert_exporter": "python",
   "pygments_lexer": "ipython3",
   "version": "3.13.5"
  }
 },
 "nbformat": 4,
 "nbformat_minor": 5
}
