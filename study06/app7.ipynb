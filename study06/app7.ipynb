{
 "cells": [
  {
   "cell_type": "markdown",
   "id": "7d44d640",
   "metadata": {},
   "source": [
    "빈칸 채우기 문제2 풀이 --> \"q2.png\""
   ]
  },
  {
   "cell_type": "markdown",
   "id": "5fe4bc70",
   "metadata": {},
   "source": [
    "1답안] 각 행에서 열의 위치 확인"
   ]
  },
  {
   "cell_type": "code",
   "execution_count": 7,
   "id": "7def9857",
   "metadata": {},
   "outputs": [
    {
     "name": "stdout",
     "output_type": "stream",
     "text": [
      "OXXXXXXXXO\n",
      "XOXXXXXXOX\n",
      "XXOXXXXOXX\n",
      "XXXOXXOXXX\n",
      "XXXXOOXXXX\n",
      "XXXXOOXXXX\n",
      "XXXOXXOXXX\n",
      "XXOXXXXOXX\n",
      "XOXXXXXXOX\n",
      "OXXXXXXXXO\n"
     ]
    }
   ],
   "source": [
    "a = \"O\"\n",
    "b = \"X\"\n",
    "for y in range(1, 11):\n",
    "    행 = \"\"\n",
    "    for x in range(1, 11):\n",
    "        if (y == 1 or y == 10) and (x == 1 or x == 10):\n",
    "            행 += a\n",
    "        elif (y == 2 or y == 9) and (x == 2 or x == 9):\n",
    "            행 += a\n",
    "        elif (y == 3 or y == 8) and (x == 3 or x == 8):\n",
    "            행 += a\n",
    "        elif (y == 4 or y == 7) and (x == 4 or x == 7):\n",
    "            행 += a\n",
    "        elif (y == 5 or y == 6) and (x == 5 or x == 6):\n",
    "            행 += a\n",
    "        else:\n",
    "            행 += b\n",
    "    print(행)"
   ]
  },
  {
   "cell_type": "markdown",
   "id": "d5b3fa21",
   "metadata": {},
   "source": [
    "2답안] 행과 열의 위치 값을 비교"
   ]
  },
  {
   "cell_type": "code",
   "execution_count": 2,
   "id": "e1a50472",
   "metadata": {},
   "outputs": [
    {
     "name": "stdout",
     "output_type": "stream",
     "text": [
      "OXXXXXXXXO\n",
      "XOXXXXXXOX\n",
      "XXOXXXXOXX\n",
      "XXXOXXOXXX\n",
      "XXXXOOXXXX\n",
      "XXXXOOXXXX\n",
      "XXXOXXOXXX\n",
      "XXOXXXXOXX\n",
      "XOXXXXXXOX\n",
      "OXXXXXXXXO\n"
     ]
    }
   ],
   "source": [
    "a = \"O\"\n",
    "b = \"X\"\n",
    "for y in range(10):\n",
    "    행 = ''\n",
    "    for x in range(10):\n",
    "        if y == x or (9 - y) == x:\n",
    "            행 += a\n",
    "        else:\n",
    "            행 += b\n",
    "    print(행)"
   ]
  },
  {
   "cell_type": "markdown",
   "id": "00c30b74",
   "metadata": {},
   "source": [
    "3단안] 조건부 표현식 사용"
   ]
  },
  {
   "cell_type": "code",
   "execution_count": 1,
   "id": "4b6b6f4b",
   "metadata": {},
   "outputs": [
    {
     "name": "stdout",
     "output_type": "stream",
     "text": [
      "OXXXXXXXXO\n",
      "XOXXXXXXOX\n",
      "XXOXXXXOXX\n",
      "XXXOXXOXXX\n",
      "XXXXOOXXXX\n",
      "XXXXOOXXXX\n",
      "XXXOXXOXXX\n",
      "XXOXXXXOXX\n",
      "XOXXXXXXOX\n",
      "OXXXXXXXXO\n"
     ]
    }
   ],
   "source": [
    "for y in range(10):\n",
    "    행 = ''\n",
    "    for x in range(10):\n",
    "        행 += \"O\" if y == x or (9 - y) == x else \"X\"\n",
    "    print(행)"
   ]
  },
  {
   "cell_type": "markdown",
   "id": "3f66bc9b",
   "metadata": {},
   "source": [
    "4답안] 리스트에 미리 표현 할 값을 넣어서 출력하기"
   ]
  },
  {
   "cell_type": "code",
   "execution_count": 3,
   "id": "82781044",
   "metadata": {},
   "outputs": [
    {
     "name": "stdout",
     "output_type": "stream",
     "text": [
      "OXXXXXXXXO\n",
      "XOXXXXXXOX\n",
      "XXOXXXXOXX\n",
      "XXXOXXOXXX\n",
      "XXXXOOXXXX\n",
      "XXXXOOXXXX\n",
      "XXXOXXOXXX\n",
      "XXOXXXXOXX\n",
      "XOXXXXXXOX\n",
      "OXXXXXXXXO\n"
     ]
    }
   ],
   "source": [
    "리스트 = ([1,0,0,0,0,0,0,0,0,1],[0,1,0,0,0,0,0,0,1,0],[0,0,1,0,0,0,0,1,0,0],[0,0,0,1,0,0,1,0,0,0],[0,0,0,0,1,1,0,0,0,0],[0,0,0,0,1,1,0,0,0,0],[0,0,0,1,0,0,1,0,0,0],[0,0,1,0,0,0,0,1,0,0],[0,1,0,0,0,0,0,0,1,0],[1,0,0,0,0,0,0,0,0,1])\n",
    "for y in 리스트:\n",
    "    행 = \"\"\n",
    "    for x in y:\n",
    "        행 += \"O\" if x == 1 else \"X\"\n",
    "    print(행)"
   ]
  }
 ],
 "metadata": {
  "kernelspec": {
   "display_name": "Python 3",
   "language": "python",
   "name": "python3"
  },
  "language_info": {
   "codemirror_mode": {
    "name": "ipython",
    "version": 3
   },
   "file_extension": ".py",
   "mimetype": "text/x-python",
   "name": "python",
   "nbconvert_exporter": "python",
   "pygments_lexer": "ipython3",
   "version": "3.13.5"
  }
 },
 "nbformat": 4,
 "nbformat_minor": 5
}
