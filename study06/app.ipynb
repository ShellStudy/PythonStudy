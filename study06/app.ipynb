{
 "cells": [
  {
   "cell_type": "markdown",
   "id": "dbaf4679",
   "metadata": {},
   "source": [
    "반복문에서 사용되는 기능\n",
    "- break : 강제로 종료\n",
    "- continue : 다음으로 점프"
   ]
  },
  {
   "cell_type": "markdown",
   "id": "3791a6b9",
   "metadata": {},
   "source": [
    "1) break 사용 예시"
   ]
  },
  {
   "cell_type": "code",
   "execution_count": 9,
   "id": "affd4716",
   "metadata": {},
   "outputs": [
    {
     "name": "stdout",
     "output_type": "stream",
     "text": [
      "1\n",
      "2\n",
      "3\n",
      "4\n"
     ]
    }
   ],
   "source": [
    "변수 = 0\n",
    "while True:\n",
    "    변수 += 1\n",
    "    if 변수 == 5: \n",
    "        break\n",
    "    else:\n",
    "        print(변수)"
   ]
  },
  {
   "cell_type": "markdown",
   "id": "c3999aac",
   "metadata": {},
   "source": [
    "2) continue 사용 예시"
   ]
  },
  {
   "cell_type": "code",
   "execution_count": 8,
   "id": "87933f37",
   "metadata": {},
   "outputs": [
    {
     "name": "stdout",
     "output_type": "stream",
     "text": [
      "1\n",
      "3\n",
      "5\n"
     ]
    }
   ],
   "source": [
    "변수 = 0\n",
    "while 변수 < 5:\n",
    "    변수 += 1\n",
    "    if 변수%2 == 0: \n",
    "        continue\n",
    "    else:\n",
    "        print(변수)"
   ]
  }
 ],
 "metadata": {
  "kernelspec": {
   "display_name": "Python 3",
   "language": "python",
   "name": "python3"
  },
  "language_info": {
   "codemirror_mode": {
    "name": "ipython",
    "version": 3
   },
   "file_extension": ".py",
   "mimetype": "text/x-python",
   "name": "python",
   "nbconvert_exporter": "python",
   "pygments_lexer": "ipython3",
   "version": "3.13.5"
  }
 },
 "nbformat": 4,
 "nbformat_minor": 5
}
