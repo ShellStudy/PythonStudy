{
 "cells": [
  {
   "cell_type": "markdown",
   "id": "dbaf4679",
   "metadata": {},
   "source": [
    "반복문에서 사용되는 기능\n",
    "- break : 강제로 종료\n",
    "- continue : 다음으로 점프"
   ]
  },
  {
   "cell_type": "markdown",
   "id": "3791a6b9",
   "metadata": {},
   "source": [
    "1) break 사용 예시"
   ]
  },
  {
   "cell_type": "code",
   "execution_count": 9,
   "id": "affd4716",
   "metadata": {},
   "outputs": [
    {
     "name": "stdout",
     "output_type": "stream",
     "text": [
      "1\n",
      "2\n",
      "3\n",
      "4\n"
     ]
    }
   ],
   "source": [
    "변수 = 0\n",
    "while True:\n",
    "    변수 += 1\n",
    "    if 변수 == 5: \n",
    "        break\n",
    "    else:\n",
    "        print(변수)"
   ]
  },
  {
   "cell_type": "markdown",
   "id": "c3999aac",
   "metadata": {},
   "source": [
    "2) continue 사용 예시"
   ]
  },
  {
   "cell_type": "code",
   "execution_count": 10,
   "id": "87933f37",
   "metadata": {},
   "outputs": [
    {
     "name": "stdout",
     "output_type": "stream",
     "text": [
      "1\n",
      "3\n",
      "5\n"
     ]
    }
   ],
   "source": [
    "변수 = 0\n",
    "while 변수 < 5:\n",
    "    변수 += 1\n",
    "    if 변수%2 == 0: \n",
    "        continue\n",
    "    \n",
    "    print(변수)"
   ]
  },
  {
   "cell_type": "code",
   "execution_count": null,
   "id": "3861b918",
   "metadata": {},
   "outputs": [],
   "source": [
    "a = True\n",
    "b = 0\n",
    "while a:\n",
    "    if b == 0: \n",
    "        print(b)\n",
    "    b += 1\n",
    "    if b == 4:\n",
    "        continue\n",
    "    print(b)"
   ]
  },
  {
   "cell_type": "code",
   "execution_count": 19,
   "id": "cfa815fb",
   "metadata": {},
   "outputs": [
    {
     "name": "stdout",
     "output_type": "stream",
     "text": [
      "1\n",
      "1 * 1 = 1\n",
      "1 * 2 = 2\n",
      "1 * 3 = 3\n",
      "1 * 4 = 4\n",
      "1 * 5 = 5\n",
      "1 * 6 = 6\n",
      "1 * 7 = 7\n",
      "1 * 8 = 8\n",
      "1 * 9 = 9\n"
     ]
    },
    {
     "ename": "KeyboardInterrupt",
     "evalue": "",
     "output_type": "error",
     "traceback": [
      "\u001b[31m---------------------------------------------------------------------------\u001b[39m",
      "\u001b[31mKeyboardInterrupt\u001b[39m                         Traceback (most recent call last)",
      "\u001b[36mCell\u001b[39m\u001b[36m \u001b[39m\u001b[32mIn[19]\u001b[39m\u001b[32m, line 5\u001b[39m\n\u001b[32m      3\u001b[39m \u001b[38;5;28;01mwhile\u001b[39;00m 시작 < \u001b[32m10\u001b[39m:\n\u001b[32m      4\u001b[39m     \u001b[38;5;28;01mif\u001b[39;00m 시작 % \u001b[32m2\u001b[39m == \u001b[32m0\u001b[39m:\n\u001b[32m----> \u001b[39m\u001b[32m5\u001b[39m         \u001b[38;5;28;01mcontinue\u001b[39;00m\n\u001b[32m      6\u001b[39m     \u001b[38;5;28mprint\u001b[39m(시작)\n\u001b[32m      8\u001b[39m     곱 = \u001b[32m1\u001b[39m\n",
      "\u001b[31mKeyboardInterrupt\u001b[39m: "
     ]
    }
   ],
   "source": [
    "시작 = 1\n",
    "끝 = 10\n",
    "while 시작 < 10:\n",
    "    if 시작 % 2 == 0:\n",
    "        continue\n",
    "    print(시작)\n",
    "    \n",
    "    곱 = 1\n",
    "    while 곱 < 10:\n",
    "        print(f'{시작} * {곱} = {시작 * 곱}')\n",
    "        곱 += 1\n",
    "        \n",
    "    시작 += 1"
   ]
  }
 ],
 "metadata": {
  "kernelspec": {
   "display_name": "Python 3",
   "language": "python",
   "name": "python3"
  },
  "language_info": {
   "codemirror_mode": {
    "name": "ipython",
    "version": 3
   },
   "file_extension": ".py",
   "mimetype": "text/x-python",
   "name": "python",
   "nbconvert_exporter": "python",
   "pygments_lexer": "ipython3",
   "version": "3.13.5"
  }
 },
 "nbformat": 4,
 "nbformat_minor": 5
}
