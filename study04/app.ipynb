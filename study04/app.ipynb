{
 "cells": [
  {
   "cell_type": "markdown",
   "id": "1724f079",
   "metadata": {},
   "source": [
    "음료수를 구매 할 수 있는 자판기 입니다. 음료수 종류 및 개당 금액\n",
    "\n",
    "콜라 : 500\n",
    "사이다 : 450\n",
    "맥콜 : 300"
   ]
  },
  {
   "cell_type": "code",
   "execution_count": 1,
   "id": "a51c5c70",
   "metadata": {},
   "outputs": [
    {
     "name": "stdout",
     "output_type": "stream",
     "text": [
      "음료수를 구매 할 수 있는 자판기 입니다.\n"
     ]
    }
   ],
   "source": [
    "print('음료수를 구매 할 수 있는 자판기 입니다.')"
   ]
  },
  {
   "cell_type": "markdown",
   "id": "4ea09697",
   "metadata": {},
   "source": [
    "문제1) 아래의 조건문에서 해당 음료수를 선택 했을 경우 금액을 알려주고 수량을 받는 입력창을 띄우세요."
   ]
  },
  {
   "cell_type": "code",
   "execution_count": 11,
   "id": "8dbd4f25",
   "metadata": {},
   "outputs": [
    {
     "name": "stdout",
     "output_type": "stream",
     "text": [
      "콜라\n",
      "500원\n",
      "3\n"
     ]
    }
   ],
   "source": [
    "음료 = input(\"콜라, 사이다, 맥콜 중 하나의 음료수를 입력하세요.\")\n",
    "print(음료)\n",
    "\n",
    "금액 = 0\n",
    "if 음료 == '콜라':\n",
    "    금액 = 500\n",
    "if 음료 == '사이다':\n",
    "    금액 = 450\n",
    "if 음료 == '맥콜':\n",
    "    금액 = 300    \n",
    "    \n",
    "print(f'{금액}원')\n",
    "\n",
    "수량 = input(\"선택하신 음료의 수량을 입력하세요.\")\n",
    "수량 = int(수량)\n",
    "print(수량)"
   ]
  },
  {
   "cell_type": "markdown",
   "id": "f0d89f93",
   "metadata": {},
   "source": [
    "문제2) 선택한 음료와 수량의 총 합을 출력해 주세요. 예) 콜라 3개 금액은 1500원 입니다."
   ]
  },
  {
   "cell_type": "code",
   "execution_count": 12,
   "id": "96a4a285",
   "metadata": {},
   "outputs": [
    {
     "name": "stdout",
     "output_type": "stream",
     "text": [
      "콜라 3개 금액은 1500원 입니다.\n"
     ]
    }
   ],
   "source": [
    "print(f'{음료} {수량}개 금액은 {금액 * 수량}원 입니다.')"
   ]
  },
  {
   "cell_type": "markdown",
   "id": "06858d40",
   "metadata": {},
   "source": [
    "문제3) 사용자에서 금액을 받고 알맞은 결과를 출력해 주세요. 예) 2000원를 받고 500원 거스름돈를 받으세요."
   ]
  },
  {
   "cell_type": "code",
   "execution_count": 13,
   "id": "c94c7b77",
   "metadata": {},
   "outputs": [
    {
     "name": "stdout",
     "output_type": "stream",
     "text": [
      "1700원를 받고 200원 거스름돈를 받으세요.\n"
     ]
    }
   ],
   "source": [
    "돈 = input(\"선택 하신 음료를 구매하기 위해서 금액을 입력하세요.\")\n",
    "돈 = int(돈)\n",
    "print(f'{돈}원를 받고 {돈 - (금액 * 수량)}원 거스름돈를 받으세요.')"
   ]
  }
 ],
 "metadata": {
  "kernelspec": {
   "display_name": "Python 3",
   "language": "python",
   "name": "python3"
  },
  "language_info": {
   "codemirror_mode": {
    "name": "ipython",
    "version": 3
   },
   "file_extension": ".py",
   "mimetype": "text/x-python",
   "name": "python",
   "nbconvert_exporter": "python",
   "pygments_lexer": "ipython3",
   "version": "3.13.5"
  }
 },
 "nbformat": 4,
 "nbformat_minor": 5
}
