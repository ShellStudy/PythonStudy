{
 "cells": [
  {
   "cell_type": "markdown",
   "id": "7d1ce2af",
   "metadata": {},
   "source": [
    "문자열를 표현하는 방법 \n",
    "1. \", ' 하나로 사용했을 경우는 한줄 \n",
    "2. \", ' 세개로 사용했을 경우는 여러줄로 사용 가능"
   ]
  },
  {
   "cell_type": "code",
   "execution_count": 1,
   "id": "98c58a4c",
   "metadata": {},
   "outputs": [
    {
     "name": "stdout",
     "output_type": "stream",
     "text": [
      "Hello World Python is fun Life is \n",
      "too short, You need \n",
      "python Life is too short, \n",
      "   You need python\n"
     ]
    }
   ],
   "source": [
    "a = \"Hello World\"\n",
    "b = 'Python is fun'\n",
    "c = \"\"\"Life is \n",
    "too short, You need \n",
    "python\"\"\"\n",
    "d = '''Life is too short, \n",
    "   You need python'''\n",
    "print(a, b, c, d)"
   ]
  },
  {
   "cell_type": "code",
   "execution_count": 3,
   "id": "b5edbda5",
   "metadata": {},
   "outputs": [
    {
     "name": "stdout",
     "output_type": "stream",
     "text": [
      "\"Python\" is fun\n"
     ]
    }
   ],
   "source": [
    "a = '\"Python\" is fun'\n",
    "print(a)"
   ]
  },
  {
   "cell_type": "code",
   "execution_count": 5,
   "id": "d2a8f504",
   "metadata": {},
   "outputs": [
    {
     "name": "stdout",
     "output_type": "stream",
     "text": [
      "100\n"
     ]
    }
   ],
   "source": [
    "'''\n",
    "1. a 변수에 정수의 값을 넣기\n",
    "2. a 변수를 콘솔에 값을 출력하기\n",
    "'''\n",
    "a = 100\n",
    "print(a)"
   ]
  },
  {
   "cell_type": "code",
   "execution_count": 8,
   "id": "335d288b",
   "metadata": {},
   "outputs": [
    {
     "name": "stdout",
     "output_type": "stream",
     "text": [
      "Life is too short \n",
      " You need \t python\n"
     ]
    }
   ],
   "source": [
    "a = 'Life is too short \\n You need \\t python'\n",
    "print(a)"
   ]
  },
  {
   "cell_type": "code",
   "execution_count": 12,
   "id": "7b335d8c",
   "metadata": {},
   "outputs": [
    {
     "name": "stdout",
     "output_type": "stream",
     "text": [
      "Life is too short You need python\n",
      "Life is too short You need python\n",
      "Life is too short You need python\n",
      "\n"
     ]
    }
   ],
   "source": [
    "a = 'Life is too short You need python'\n",
    "print((a + '\\n') * 3)"
   ]
  }
 ],
 "metadata": {
  "kernelspec": {
   "display_name": "Python 3",
   "language": "python",
   "name": "python3"
  },
  "language_info": {
   "codemirror_mode": {
    "name": "ipython",
    "version": 3
   },
   "file_extension": ".py",
   "mimetype": "text/x-python",
   "name": "python",
   "nbconvert_exporter": "python",
   "pygments_lexer": "ipython3",
   "version": "3.13.5"
  }
 },
 "nbformat": 4,
 "nbformat_minor": 5
}
