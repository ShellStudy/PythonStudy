{
 "cells": [
  {
   "cell_type": "code",
   "execution_count": null,
   "id": "d78ee6b7",
   "metadata": {},
   "outputs": [
    {
     "name": "stdout",
     "output_type": "stream",
     "text": [
      "Life is too short, You need Python\n"
     ]
    }
   ],
   "source": [
    "a = \"Life is too short, You need\"\n",
    "b = \"Python\"\n",
    "print(a + b)"
   ]
  },
  {
   "cell_type": "code",
   "execution_count": 2,
   "id": "b85856e7",
   "metadata": {},
   "outputs": [
    {
     "name": "stdout",
     "output_type": "stream",
     "text": [
      "Life is too short, You need Python\n"
     ]
    }
   ],
   "source": [
    "a = \"Python\"\n",
    "print(\"Life is too short, You need %s\" % a)"
   ]
  },
  {
   "cell_type": "code",
   "execution_count": 4,
   "id": "523c2503",
   "metadata": {},
   "outputs": [
    {
     "name": "stdout",
     "output_type": "stream",
     "text": [
      "Life is too short, You need 100\n"
     ]
    }
   ],
   "source": [
    "a = 100\n",
    "print(\"Life is too short, You need %d\" % a)"
   ]
  },
  {
   "cell_type": "code",
   "execution_count": null,
   "id": "61d7cc7c",
   "metadata": {},
   "outputs": [
    {
     "name": "stdout",
     "output_type": "stream",
     "text": [
      "Life is too short, You need 100\n"
     ]
    }
   ],
   "source": [
    "a = \"Python\"\n",
    "print(f\"Life is too short, You need {a}\")"
   ]
  }
 ],
 "metadata": {
  "kernelspec": {
   "display_name": "Python 3",
   "language": "python",
   "name": "python3"
  },
  "language_info": {
   "codemirror_mode": {
    "name": "ipython",
    "version": 3
   },
   "file_extension": ".py",
   "mimetype": "text/x-python",
   "name": "python",
   "nbconvert_exporter": "python",
   "pygments_lexer": "ipython3",
   "version": "3.13.5"
  }
 },
 "nbformat": 4,
 "nbformat_minor": 5
}
