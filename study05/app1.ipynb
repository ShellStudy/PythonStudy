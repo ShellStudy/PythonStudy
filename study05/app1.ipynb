{
 "cells": [
  {
   "cell_type": "markdown",
   "id": "a49f081d",
   "metadata": {},
   "source": [
    "문제1. 음료수 자판기를 만들려고 합니다.\n",
    "- 음료수의 종류와 재고 수량은 자유입니다,\n",
    "   단 음료수 종류는 3가지 이상으로 하세요.\n",
    "- 음료와 수량을 모두 입력 되었을 경우 지불금액을 받고 \n",
    "   내역을 출력하세요.\n",
    "- 구매자에서 반복적으로 음료수를 선택할 수 있도록 하세요."
   ]
  },
  {
   "cell_type": "code",
   "execution_count": 6,
   "id": "42f0d624",
   "metadata": {},
   "outputs": [
    {
     "name": "stdout",
     "output_type": "stream",
     "text": [
      "음료수를 구매 할수 있는 자판기 입니다.\n",
      "자판기가 종료 됩니다.\n"
     ]
    }
   ],
   "source": [
    "while 1:\n",
    "    print(\"음료수를 구매 할수 있는 자판기 입니다.\")\n",
    "    음료 = input(\"콜라, 사이다, 환타 중 하나를 주문하세요.(종료는 'exit'를 입력하세요.)\")\n",
    "    if 음료 == '콜라' or 음료 == '사이다' or 음료 == '환타':\n",
    "        pass\n",
    "    else:\n",
    "        print(\"자판기가 종료 됩니다.\")\n",
    "        break\n",
    "    금액 = 0\n",
    "    if 음료 == '콜라':\n",
    "        print('콜라를 주문했습니다. 500원')\n",
    "        금액 = 500\n",
    "    elif 음료 == '사이다':\n",
    "        print('사이다를 주문했습니다. 450원')\n",
    "        금액 = 450\n",
    "    elif 음료 == '환타':\n",
    "        print('환타를 주문했습니다. 300원')\n",
    "        금액 = 300\n",
    "        \n",
    "    수량 = input('수량을 입력하세요.')\n",
    "    \n",
    "    총금액 = 금액 * int(수량)\n",
    "    print(f'{음료} {수량}개 금액은 {총금액}원 입니다.')\n",
    "    \n",
    "    지불금액 = input('지불 금액을 입력하세요.')\n",
    "    거스름돈 = int(지불금액) - (총금액)\n",
    "    print(f'{지불금액}원을 받고 {거스름돈}원 거스름돈을 받으세요.')\n"
   ]
  },
  {
   "cell_type": "code",
   "execution_count": null,
   "id": "6f0b23b3",
   "metadata": {},
   "outputs": [],
   "source": [
    "while True:\n",
    "    선택한음료 = input(\"콜라, 사이다, 환타 중 하나를 주문하세요.\")\n",
    "    금액 = 0\n",
    "    if 선택한음료 == 'exit':\n",
    "        break\n",
    "    elif 선택한음료 == '콜라' or 선택한음료 == '사이다' or 선택한음료 == '환타':\n",
    "        if 선택한음료 == '콜라':\n",
    "            print('콜라를 주문했습니다. 500원')\n",
    "            금액 = 500\n",
    "        elif 선택한음료 == '사이다':\n",
    "            print('사이다를 주문했습니다. 450원')\n",
    "            금액 = 450\n",
    "        elif 선택한음료 == '환타':\n",
    "            print('환타를 주문했습니다. 300원')\n",
    "            금액 = 300\n",
    "\n",
    "        수량 = input('수량을 입력하세요.')\n",
    "        총금액 = 금액 * int(수량)\n",
    "        print(f'{선택한음료} {수량}개 금액은 {총금액}원 입니다.')\n",
    "\n",
    "        지불금액 = input('지불 금액을 입력하세요.')\n",
    "        거스름돈 = int(지불금액) - (총금액)\n",
    "        if 거스름돈 == 0:\n",
    "            print(f'{지불금액}원을 받고 거스름돈는 없습니다.')\n",
    "        elif 거스름돈 > 0:\n",
    "            print(f'{지불금액}원을 받고 {거스름돈}원 거스름돈을 받으세요.')\n",
    "        else:\n",
    "            print(f'{지불금액}원과 {총금액}원이 맞지 않습니다.')\n",
    "    else:\n",
    "        print('다시 음료를 선택하세요.')"
   ]
  }
 ],
 "metadata": {
  "kernelspec": {
   "display_name": "Python 3",
   "language": "python",
   "name": "python3"
  },
  "language_info": {
   "codemirror_mode": {
    "name": "ipython",
    "version": 3
   },
   "file_extension": ".py",
   "mimetype": "text/x-python",
   "name": "python",
   "nbconvert_exporter": "python",
   "pygments_lexer": "ipython3",
   "version": "3.13.5"
  }
 },
 "nbformat": 4,
 "nbformat_minor": 5
}
